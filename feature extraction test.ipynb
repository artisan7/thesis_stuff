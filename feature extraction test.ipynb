{
 "cells": [
  {
   "cell_type": "code",
   "execution_count": 39,
   "id": "d4ca53f5",
   "metadata": {},
   "outputs": [
    {
     "data": {
      "text/plain": [
       "<matplotlib.image.AxesImage at 0x7fea03aa3e20>"
      ]
     },
     "execution_count": 39,
     "metadata": {},
     "output_type": "execute_result"
    },
    {
     "data": {
      "image/png": "[encoded data removed]",
      "text/plain": [
       "<Figure size 432x288 with 1 Axes>"
      ]
     },
     "metadata": {
      "needs_background": "light"
     },
     "output_type": "display_data"
    }
   ],
   "source": [
    "from skimage.io import imread\n",
    "from matplotlib import pyplot as plt\n",
    "\n",
    "root_dir = 'preprocessed/'\n",
    "img_dir = 'masked_images/'\n",
    "mask_dir = 'masks/'\n",
    "\n",
    "idx = 1\n",
    "\n",
    "features = {\n",
    "    'area': [],\n",
    "    'perimeter': [],\n",
    "    'eccentricity': [],\n",
    "    'major axis': [],\n",
    "    'minor axis': [],\n",
    "    'contrast': [],\n",
    "    'homogeneity': [],\n",
    "    'energy': [],\n",
    "    'correlation': [],\n",
    "    'entropy': []\n",
    "}\n",
    "\n",
    "img_loc = f'{root_dir}{img_dir}{idx}.png'\n",
    "mask_loc = f'{root_dir}{mask_dir}{idx}.png'\n",
    "\n",
    "img = imread(img_loc, as_gray=True)\n",
    "mask = imread(mask_loc, as_gray=True)\n",
    "\n",
    "plt.imshow(img, cmap=plt.cm.gray)"
   ]
  },
  {
   "cell_type": "code",
   "execution_count": 43,
   "id": "93f8ae77",
   "metadata": {},
   "outputs": [
    {
     "data": {
      "text/plain": [
       "{'area': [7882],\n",
       " 'perimeter': [645.445742854949],\n",
       " 'eccentricity': [0.8147324568685753],\n",
       " 'major axis': [191.9759525266746],\n",
       " 'minor axis': [111.31477315782965],\n",
       " 'contrast': [185.41989949748745],\n",
       " 'homogeneity': [0.8668683061927598],\n",
       " 'energy': [0.7961718496746089],\n",
       " 'correlation': [0.949106833962034],\n",
       " 'entropy': []}"
      ]
     },
     "execution_count": 43,
     "metadata": {},
     "output_type": "execute_result"
    }
   ],
   "source": [
    "# shape based features\n",
    "from skimage.measure import regionprops\n",
    "\n",
    "prop = regionprops(mask)[0]\n",
    "\n",
    "features['area'].append( prop['area'] )\n",
    "features['perimeter'].append( prop['perimeter'] )\n",
    "features['eccentricity'].append( prop['eccentricity'] )\n",
    "features['major axis'].append( prop['major_axis_length'] )\n",
    "features['minor axis'].append( prop['minor_axis_length'] )\n",
    "\n",
    "features"
   ]
  },
  {
   "cell_type": "code",
   "execution_count": 40,
   "id": "fd886933",
   "metadata": {},
   "outputs": [
    {
     "data": {
      "text/plain": [
       "{'area': [],\n",
       " 'perimeter': [],\n",
       " 'eccentricity': [],\n",
       " 'major axis': [],\n",
       " 'minor axis': [],\n",
       " 'contrast': [185.41989949748745],\n",
       " 'homogeneity': [0.8668683061927598],\n",
       " 'energy': [0.7961718496746089],\n",
       " 'correlation': [0.949106833962034],\n",
       " 'entropy': []}"
      ]
     },
     "execution_count": 40,
     "metadata": {},
     "output_type": "execute_result"
    }
   ],
   "source": [
    "# glcm texture based features\n",
    "from skimage.feature import greycomatrix, greycoprops\n",
    "from skimage import img_as_ubyte\n",
    "\n",
    "glcm = greycomatrix(img_as_ubyte(img), [1], [0], symmetric=True)\n",
    "\n",
    "features['contrast'].append( greycoprops(glcm, prop='contrast')[0][0] )\n",
    "features['homogeneity'].append( greycoprops(glcm, prop='homogeneity')[0][0] )\n",
    "features['energy'].append( greycoprops(glcm, prop='energy')[0][0] )\n",
    "features['correlation'].append( greycoprops(glcm, prop='correlation')[0][0] )\n",
    "\n",
    "features"
   ]
  },
  {
   "cell_type": "code",
   "execution_count": 44,
   "id": "4df0bcfe",
   "metadata": {},
   "outputs": [
    {
     "data": {
      "text/plain": [
       "{'area': [7882],\n",
       " 'perimeter': [645.445742854949],\n",
       " 'eccentricity': [0.8147324568685753],\n",
       " 'major axis': [191.9759525266746],\n",
       " 'minor axis': [111.31477315782965],\n",
       " 'contrast': [185.41989949748745],\n",
       " 'homogeneity': [0.8668683061927598],\n",
       " 'energy': [0.7961718496746089],\n",
       " 'correlation': [0.949106833962034],\n",
       " 'entropy': [1.8084645134496915]}"
      ]
     },
     "execution_count": 44,
     "metadata": {},
     "output_type": "execute_result"
    }
   ],
   "source": [
    "#other texture based features\n",
    "from skimage.measure import shannon_entropy\n",
    "from skimage.measure import moments\n",
    "\n",
    "# entropy\n",
    "features['entropy'].append( shannon_entropy(img) )\n",
    "\n",
    "# skewness, total mean, variance\n",
    "# raw moments are NOT translation, rotation, and scale invariant (might change this later)\n",
    "#moments(img)\n",
    "\n",
    "# SD = square root of second moment\n",
    "\n",
    "\n",
    "# skewness = third moment / SD^3\n",
    "\n",
    "features"
   ]
  },
  {
   "cell_type": "code",
   "execution_count": 48,
   "id": "0ae02e48",
   "metadata": {},
   "outputs": [
    {
     "data": {
      "text/html": [
       "<div>\n",
       "<style scoped>\n",
       "    .dataframe tbody tr th:only-of-type {\n",
       "        vertical-align: middle;\n",
       "    }\n",
       "\n",
       "    .dataframe tbody tr th {\n",
       "        vertical-align: top;\n",
       "    }\n",
       "\n",
       "    .dataframe thead th {\n",
       "        text-align: right;\n",
       "    }\n",
       "</style>\n",
       "<table border=\"1\" class=\"dataframe\">\n",
       "  <thead>\n",
       "    <tr style=\"text-align: right;\">\n",
       "      <th></th>\n",
       "      <th>area</th>\n",
       "      <th>perimeter</th>\n",
       "      <th>eccentricity</th>\n",
       "      <th>major axis</th>\n",
       "      <th>minor axis</th>\n",
       "      <th>contrast</th>\n",
       "      <th>homogeneity</th>\n",
       "      <th>energy</th>\n",
       "      <th>correlation</th>\n",
       "      <th>entropy</th>\n",
       "    </tr>\n",
       "  </thead>\n",
       "  <tbody>\n",
       "    <tr>\n",
       "      <th>0</th>\n",
       "      <td>7882</td>\n",
       "      <td>645.445743</td>\n",
       "      <td>0.814732</td>\n",
       "      <td>191.975953</td>\n",
       "      <td>111.314773</td>\n",
       "      <td>185.419899</td>\n",
       "      <td>0.866868</td>\n",
       "      <td>0.796172</td>\n",
       "      <td>0.949107</td>\n",
       "      <td>1.808465</td>\n",
       "    </tr>\n",
       "  </tbody>\n",
       "</table>\n",
       "</div>"
      ],
      "text/plain": [
       "   area   perimeter  eccentricity  major axis  minor axis    contrast  \\\n",
       "0  7882  645.445743      0.814732  191.975953  111.314773  185.419899   \n",
       "\n",
       "   homogeneity    energy  correlation   entropy  \n",
       "0     0.866868  0.796172     0.949107  1.808465  "
      ]
     },
     "execution_count": 48,
     "metadata": {},
     "output_type": "execute_result"
    }
   ],
   "source": [
    "import pandas as pd\n",
    "\n",
    "df = pd.DataFrame.from_dict(features)\n",
    "df"
   ]
  },
  {
   "cell_type": "code",
   "execution_count": null,
   "id": "28381082",
   "metadata": {},
   "outputs": [],
   "source": []
  }
 ],
 "metadata": {
  "kernelspec": {
   "display_name": "Python 3 (ipykernel)",
   "language": "python",
   "name": "python3"
  },
  "language_info": {
   "codemirror_mode": {
    "name": "ipython",
    "version": 3
   },
   "file_extension": ".py",
   "mimetype": "text/x-python",
   "name": "python",
   "nbconvert_exporter": "python",
   "pygments_lexer": "ipython3",
   "version": "3.8.10"
  }
 },
 "nbformat": 4,
 "nbformat_minor": 5
}
