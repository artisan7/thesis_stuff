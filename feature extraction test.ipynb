{
 "cells": [
  {
   "cell_type": "code",
   "execution_count": 53,
   "id": "d4ca53f5",
   "metadata": {},
   "outputs": [
    {
     "data": {
      "text/plain": [
       "<matplotlib.image.AxesImage at 0x2a1e2501670>"
      ]
     },
     "execution_count": 53,
     "metadata": {},
     "output_type": "execute_result"
    },
    {
     "data": {
      "image/png": "[encoded data removed]",
      "text/plain": [
       "<Figure size 432x288 with 1 Axes>"
      ]
     },
     "metadata": {
      "needs_background": "light"
     },
     "output_type": "display_data"
    }
   ],
   "source": [
    "from skimage.io import imread\n",
    "from matplotlib import pyplot as plt\n",
    "\n",
    "root_dir = 'preprocessed/'\n",
    "img_dir = 'masked_images/'\n",
    "mask_dir = 'masks/'\n",
    "\n",
    "idx = 1\n",
    "\n",
    "features = {\n",
    "    'area': [],\n",
    "    'perimeter': [],\n",
    "    'eccentricity': [],\n",
    "    'major axis': [],\n",
    "    'minor axis': [],\n",
    "    'contrast': [],\n",
    "    'homogeneity': [],\n",
    "    'energy': [],\n",
    "    'correlation': [],\n",
    "    'entropy': [],\n",
    "    'uniformity': [],\n",
    "}\n",
    "\n",
    "img_loc = f'{root_dir}{img_dir}{idx}.png'\n",
    "mask_loc = f'{root_dir}{mask_dir}{idx}.png'\n",
    "\n",
    "img = imread(img_loc, as_gray=True)\n",
    "mask = imread(mask_loc, as_gray=True)\n",
    "\n",
    "plt.imshow(img, cmap=plt.cm.gray)"
   ]
  },
  {
   "cell_type": "code",
   "execution_count": 54,
   "id": "93f8ae77",
   "metadata": {},
   "outputs": [
    {
     "data": {
      "text/plain": [
       "{'area': [9469],\n",
       " 'perimeter': [659.3624817342638],\n",
       " 'eccentricity': [0.7931411693772248],\n",
       " 'major axis': [190.8142572864498],\n",
       " 'minor axis': [116.21310229799069],\n",
       " 'contrast': [],\n",
       " 'homogeneity': [],\n",
       " 'energy': [],\n",
       " 'correlation': [],\n",
       " 'entropy': [],\n",
       " 'uniformity': []}"
      ]
     },
     "execution_count": 54,
     "metadata": {},
     "output_type": "execute_result"
    }
   ],
   "source": [
    "# shape based features\n",
    "from skimage.measure import regionprops\n",
    "\n",
    "prop = regionprops(mask)[0]\n",
    "\n",
    "features['area'].append( prop['area'] )\n",
    "features['perimeter'].append( prop['perimeter'] )\n",
    "features['eccentricity'].append( prop['eccentricity'] )\n",
    "features['major axis'].append( prop['major_axis_length'] )\n",
    "features['minor axis'].append( prop['minor_axis_length'] )\n",
    "\n",
    "features"
   ]
  },
  {
   "cell_type": "code",
   "execution_count": 55,
   "id": "fd886933",
   "metadata": {},
   "outputs": [
    {
     "data": {
      "text/plain": [
       "{'area': [9469],\n",
       " 'perimeter': [659.3624817342638],\n",
       " 'eccentricity': [0.7931411693772248],\n",
       " 'major axis': [190.8142572864498],\n",
       " 'minor axis': [116.21310229799069],\n",
       " 'contrast': [122.14698492462311],\n",
       " 'homogeneity': [0.8126801625213264],\n",
       " 'energy': [0.7570111520870966],\n",
       " 'correlation': [0.923784189124866],\n",
       " 'entropy': [],\n",
       " 'uniformity': []}"
      ]
     },
     "execution_count": 55,
     "metadata": {},
     "output_type": "execute_result"
    }
   ],
   "source": [
    "# glcm texture based features\n",
    "from skimage.feature import greycomatrix, greycoprops\n",
    "from skimage import img_as_ubyte\n",
    "\n",
    "glcm = greycomatrix(img_as_ubyte(img), [1], [0], symmetric=True)\n",
    "\n",
    "features['contrast'].append( greycoprops(glcm, prop='contrast')[0][0] )\n",
    "features['homogeneity'].append( greycoprops(glcm, prop='homogeneity')[0][0] )\n",
    "features['energy'].append( greycoprops(glcm, prop='energy')[0][0] )\n",
    "features['correlation'].append( greycoprops(glcm, prop='correlation')[0][0] )\n",
    "\n",
    "features"
   ]
  },
  {
   "cell_type": "code",
   "execution_count": 56,
   "id": "4df0bcfe",
   "metadata": {},
   "outputs": [
    {
     "data": {
      "text/plain": [
       "{'area': [9469],\n",
       " 'perimeter': [659.3624817342638],\n",
       " 'eccentricity': [0.7931411693772248],\n",
       " 'major axis': [190.8142572864498],\n",
       " 'minor axis': [116.21310229799069],\n",
       " 'contrast': [122.14698492462311],\n",
       " 'homogeneity': [0.8126801625213264],\n",
       " 'energy': [0.7570111520870966],\n",
       " 'correlation': [0.923784189124866],\n",
       " 'entropy': [2.3853919853561836],\n",
       " 'uniformity': []}"
      ]
     },
     "execution_count": 56,
     "metadata": {},
     "output_type": "execute_result"
    }
   ],
   "source": [
    "#other texture based features\n",
    "from skimage.measure import shannon_entropy\n",
    "from skimage.measure import moments\n",
    "\n",
    "# entropy\n",
    "features['entropy'].append( shannon_entropy(img) )\n",
    "\n",
    "# skewness, total mean, variance\n",
    "# raw moments are NOT translation, rotation, and scale invariant (might change this later)\n",
    "#moments(img)\n",
    "\n",
    "# SD = square root of second moment\n",
    "\n",
    "\n",
    "# skewness = third moment / SD^3\n",
    "\n",
    "features"
   ]
  },
  {
   "cell_type": "code",
   "execution_count": 57,
   "id": "37d26671",
   "metadata": {},
   "outputs": [],
   "source": [
    "import numpy as np\n",
    "\n",
    "# Source: https://stackoverflow.com/questions/30851024/matlab-how-to-calculate-uniformity-of-an-image?rq=1\n",
    "# Uniformity\n",
    "\n",
    "def uniformity(img):\n",
    "    intensity_lvls = np.unique(img) # Get all intensity levels\n",
    "    numel = intensity_lvls.size # Number of intensity levels\n",
    "    return numel\n",
    "\n",
    "features['uniformity'].append( uniformity(img) )"
   ]
  },
  {
   "cell_type": "code",
   "execution_count": 58,
   "id": "0ae02e48",
   "metadata": {},
   "outputs": [
    {
     "data": {
      "text/html": [
       "<div>\n",
       "<style scoped>\n",
       "    .dataframe tbody tr th:only-of-type {\n",
       "        vertical-align: middle;\n",
       "    }\n",
       "\n",
       "    .dataframe tbody tr th {\n",
       "        vertical-align: top;\n",
       "    }\n",
       "\n",
       "    .dataframe thead th {\n",
       "        text-align: right;\n",
       "    }\n",
       "</style>\n",
       "<table border=\"1\" class=\"dataframe\">\n",
       "  <thead>\n",
       "    <tr style=\"text-align: right;\">\n",
       "      <th></th>\n",
       "      <th>area</th>\n",
       "      <th>perimeter</th>\n",
       "      <th>eccentricity</th>\n",
       "      <th>major axis</th>\n",
       "      <th>minor axis</th>\n",
       "      <th>contrast</th>\n",
       "      <th>homogeneity</th>\n",
       "      <th>energy</th>\n",
       "      <th>correlation</th>\n",
       "      <th>entropy</th>\n",
       "      <th>uniformity</th>\n",
       "    </tr>\n",
       "  </thead>\n",
       "  <tbody>\n",
       "    <tr>\n",
       "      <th>0</th>\n",
       "      <td>9469</td>\n",
       "      <td>659.362482</td>\n",
       "      <td>0.793141</td>\n",
       "      <td>190.814257</td>\n",
       "      <td>116.213102</td>\n",
       "      <td>122.146985</td>\n",
       "      <td>0.81268</td>\n",
       "      <td>0.757011</td>\n",
       "      <td>0.923784</td>\n",
       "      <td>2.385392</td>\n",
       "      <td>123</td>\n",
       "    </tr>\n",
       "  </tbody>\n",
       "</table>\n",
       "</div>"
      ],
      "text/plain": [
       "   area   perimeter  eccentricity  major axis  minor axis    contrast  \\\n",
       "0  9469  659.362482      0.793141  190.814257  116.213102  122.146985   \n",
       "\n",
       "   homogeneity    energy  correlation   entropy  uniformity  \n",
       "0      0.81268  0.757011     0.923784  2.385392         123  "
      ]
     },
     "execution_count": 58,
     "metadata": {},
     "output_type": "execute_result"
    }
   ],
   "source": [
    "import pandas as pd\n",
    "\n",
    "df = pd.DataFrame.from_dict(features)\n",
    "df"
   ]
  },
  {
   "cell_type": "code",
   "execution_count": null,
   "id": "980b57cd",
   "metadata": {},
   "outputs": [],
   "source": []
  },
  {
   "cell_type": "code",
   "execution_count": null,
   "id": "d31795fc",
   "metadata": {},
   "outputs": [],
   "source": []
  }
 ],
 "metadata": {
  "kernelspec": {
   "display_name": "Python 3 (ipykernel)",
   "language": "python",
   "name": "python3"
  },
  "language_info": {
   "codemirror_mode": {
    "name": "ipython",
    "version": 3
   },
   "file_extension": ".py",
   "mimetype": "text/x-python",
   "name": "python",
   "nbconvert_exporter": "python",
   "pygments_lexer": "ipython3",
   "version": "3.8.5"
  }
 },
 "nbformat": 4,
 "nbformat_minor": 5
}
