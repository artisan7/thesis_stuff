{
 "cells": [
  {
   "cell_type": "code",
   "execution_count": 1,
   "id": "d4ca53f5",
   "metadata": {},
   "outputs": [
    {
     "data": {
      "text/plain": [
       "<matplotlib.image.AxesImage at 0x7f3e5b73dd30>"
      ]
     },
     "execution_count": 1,
     "metadata": {},
     "output_type": "execute_result"
    },
    {
     "data": {
      "image/png": "[encoded data removed]",
      "text/plain": [
       "<Figure size 432x288 with 1 Axes>"
      ]
     },
     "metadata": {
      "needs_background": "light"
     },
     "output_type": "display_data"
    }
   ],
   "source": [
    "from skimage.io import imread\n",
    "from matplotlib import pyplot as plt\n",
    "\n",
    "root_dir = 'preprocessed/'\n",
    "img_dir = 'masked_images/'\n",
    "mask_dir = 'masks/'\n",
    "\n",
    "idx = 100\n",
    "\n",
    "features = {\n",
    "    'area': [],\n",
    "    'perimeter': [],\n",
    "    'eccentricity': [],\n",
    "    'major axis': [],\n",
    "    'minor axis': [],\n",
    "    'contrast': [],\n",
    "    'homogeneity': [],\n",
    "    'energy': [],\n",
    "    'correlation': [],\n",
    "    'entropy': [],\n",
    "    'mean': [],\n",
    "    'variance': [],\n",
    "    'skewness': [],\n",
    "    'uniformity': [],\n",
    "}\n",
    "\n",
    "img_loc = f'{root_dir}{img_dir}{idx}.png'\n",
    "mask_loc = f'{root_dir}{mask_dir}{idx}.png'\n",
    "\n",
    "img = imread(img_loc, as_gray=True)\n",
    "mask = imread(mask_loc, as_gray=True)\n",
    "\n",
    "plt.imshow(img, cmap=plt.cm.gray)"
   ]
  },
  {
   "cell_type": "code",
   "execution_count": 2,
   "id": "93f8ae77",
   "metadata": {},
   "outputs": [
    {
     "data": {
      "text/plain": [
       "{'area': [13459],\n",
       " 'perimeter': [769.4041122946064],\n",
       " 'eccentricity': [0.7793482156580447],\n",
       " 'major axis': [209.68541764894454],\n",
       " 'minor axis': [131.38700849247212],\n",
       " 'contrast': [],\n",
       " 'homogeneity': [],\n",
       " 'energy': [],\n",
       " 'correlation': [],\n",
       " 'entropy': [],\n",
       " 'mean': [],\n",
       " 'variance': [],\n",
       " 'skewness': [],\n",
       " 'uniformity': []}"
      ]
     },
     "execution_count": 2,
     "metadata": {},
     "output_type": "execute_result"
    }
   ],
   "source": [
    "# shape based features\n",
    "from skimage.measure import regionprops\n",
    "\n",
    "prop = regionprops(mask)[0]\n",
    "\n",
    "features['area'].append( prop['area'] )\n",
    "features['perimeter'].append( prop['perimeter'] )\n",
    "features['eccentricity'].append( prop['eccentricity'] )\n",
    "features['major axis'].append( prop['major_axis_length'] )\n",
    "features['minor axis'].append( prop['minor_axis_length'] )\n",
    "\n",
    "features"
   ]
  },
  {
   "cell_type": "code",
   "execution_count": 3,
   "id": "fd886933",
   "metadata": {},
   "outputs": [
    {
     "data": {
      "text/plain": [
       "{'area': [13459],\n",
       " 'perimeter': [769.4041122946064],\n",
       " 'eccentricity': [0.7793482156580447],\n",
       " 'major axis': [209.68541764894454],\n",
       " 'minor axis': [131.38700849247212],\n",
       " 'contrast': [204.72175879396985],\n",
       " 'homogeneity': [0.7530291602790189],\n",
       " 'energy': [0.6552930483803215],\n",
       " 'correlation': [0.9344120061569131],\n",
       " 'entropy': [],\n",
       " 'mean': [],\n",
       " 'variance': [],\n",
       " 'skewness': [],\n",
       " 'uniformity': []}"
      ]
     },
     "execution_count": 3,
     "metadata": {},
     "output_type": "execute_result"
    }
   ],
   "source": [
    "# glcm texture based features\n",
    "from skimage.feature import greycomatrix, greycoprops\n",
    "from skimage import img_as_ubyte\n",
    "\n",
    "glcm = greycomatrix(img_as_ubyte(img), [1], [0], symmetric=True)\n",
    "\n",
    "features['contrast'].append( greycoprops(glcm, prop='contrast')[0][0] )\n",
    "features['homogeneity'].append( greycoprops(glcm, prop='homogeneity')[0][0] )\n",
    "features['energy'].append( greycoprops(glcm, prop='energy')[0][0] )\n",
    "features['correlation'].append( greycoprops(glcm, prop='correlation')[0][0] )\n",
    "\n",
    "features"
   ]
  },
  {
   "cell_type": "code",
   "execution_count": 4,
   "id": "4df0bcfe",
   "metadata": {},
   "outputs": [],
   "source": [
    "#other texture based features\n",
    "import numpy as np\n",
    "from skimage.measure import shannon_entropy\n",
    "from skimage.measure import moments, moments_central\n",
    "from scipy.stats import skew\n",
    "\n",
    "# entropy\n",
    "features['entropy'].append( shannon_entropy(img) )\n",
    "\n",
    "# skewness, total mean, variance\n",
    "arr = img[img != 0] #remove zeroes (masked out pixels) from image\n",
    "features['mean'].append( np.mean(arr) )\n",
    "features['variance'].append( np.var(arr) )\n",
    "features['skewness'].append( skew(arr) )"
   ]
  },
  {
   "cell_type": "code",
   "execution_count": 5,
   "id": "37d26671",
   "metadata": {},
   "outputs": [],
   "source": [
    "# Source: https://stackoverflow.com/questions/30851024/matlab-how-to-calculate-uniformity-of-an-image?rq=1\n",
    "# Uniformity\n",
    "\n",
    "def uniformity(img):\n",
    "    intensity_lvls = np.unique(img) # Get all intensity levels\n",
    "    numel = intensity_lvls.size # Number of intensity levels\n",
    "    return numel\n",
    "img = img[img != 0]\n",
    "features['uniformity'].append( uniformity(img) )"
   ]
  },
  {
   "cell_type": "code",
   "execution_count": 16,
   "id": "0ae02e48",
   "metadata": {},
   "outputs": [
    {
     "data": {
      "text/html": [
       "<div>\n",
       "<style scoped>\n",
       "    .dataframe tbody tr th:only-of-type {\n",
       "        vertical-align: middle;\n",
       "    }\n",
       "\n",
       "    .dataframe tbody tr th {\n",
       "        vertical-align: top;\n",
       "    }\n",
       "\n",
       "    .dataframe thead th {\n",
       "        text-align: right;\n",
       "    }\n",
       "</style>\n",
       "<table border=\"1\" class=\"dataframe\">\n",
       "  <thead>\n",
       "    <tr style=\"text-align: right;\">\n",
       "      <th></th>\n",
       "      <th>area</th>\n",
       "      <th>perimeter</th>\n",
       "      <th>eccentricity</th>\n",
       "      <th>major axis</th>\n",
       "      <th>minor axis</th>\n",
       "      <th>contrast</th>\n",
       "      <th>homogeneity</th>\n",
       "      <th>energy</th>\n",
       "      <th>correlation</th>\n",
       "      <th>entropy</th>\n",
       "      <th>mean</th>\n",
       "      <th>variance</th>\n",
       "      <th>skewness</th>\n",
       "      <th>uniformity</th>\n",
       "      <th>finding</th>\n",
       "    </tr>\n",
       "  </thead>\n",
       "  <tbody>\n",
       "    <tr>\n",
       "      <th>0</th>\n",
       "      <td>13459</td>\n",
       "      <td>769.404112</td>\n",
       "      <td>0.779348</td>\n",
       "      <td>209.685418</td>\n",
       "      <td>131.387008</td>\n",
       "      <td>204.721759</td>\n",
       "      <td>0.753029</td>\n",
       "      <td>0.655293</td>\n",
       "      <td>0.934412</td>\n",
       "      <td>3.155457</td>\n",
       "      <td>76.84828</td>\n",
       "      <td>706.521152</td>\n",
       "      <td>0.291785</td>\n",
       "      <td>115</td>\n",
       "      <td>COVID-19</td>\n",
       "    </tr>\n",
       "  </tbody>\n",
       "</table>\n",
       "</div>"
      ],
      "text/plain": [
       "    area   perimeter  eccentricity  major axis  minor axis    contrast  \\\n",
       "0  13459  769.404112      0.779348  209.685418  131.387008  204.721759   \n",
       "\n",
       "   homogeneity    energy  correlation   entropy      mean    variance  \\\n",
       "0     0.753029  0.655293     0.934412  3.155457  76.84828  706.521152   \n",
       "\n",
       "   skewness  uniformity   finding  \n",
       "0  0.291785         115  COVID-19  "
      ]
     },
     "execution_count": 16,
     "metadata": {},
     "output_type": "execute_result"
    }
   ],
   "source": [
    "import pandas as pd\n",
    "\n",
    "metadata_df = pd.read_csv('final_dataset.csv')\n",
    "\n",
    "df = pd.DataFrame.from_dict(features)\n",
    "\n",
    "df['finding'] = metadata_df['finding']\n",
    "\n",
    "df"
   ]
  },
  {
   "cell_type": "code",
   "execution_count": 10,
   "id": "980b57cd",
   "metadata": {},
   "outputs": [
    {
     "data": {
      "text/plain": [
       "706.521152216443"
      ]
     },
     "execution_count": 10,
     "metadata": {},
     "output_type": "execute_result"
    }
   ],
   "source": [
    "#Source: https://github.com/scipy/scipy/issues/9097\n",
    "def signaltonoise(a, axis=0, ddof=0):\n",
    "    #a = np.asanyarray(a)\n",
    "    m = a.mean(axis)\n",
    "    sd = a.std(axis=axis, ddof=ddof)\n",
    "    return np.where(sd == 0, 0, m/sd)\n",
    "\n",
    "signaltonoise(img, axis=None)"
   ]
  },
  {
   "cell_type": "code",
   "execution_count": 8,
   "id": "d31795fc",
   "metadata": {
    "scrolled": true
   },
   "outputs": [
    {
     "name": "stdout",
     "output_type": "stream",
     "text": [
      "76.84827996136414\n",
      "26.580465613236406\n",
      "4.6107156718757345\n",
      "2.8911562754226408\n"
     ]
    }
   ],
   "source": [
    "#ayaw ni pansina kay experiment ra naku ni\n",
    "\n",
    "import math\n",
    "#excluding zero as it is not included in roi\n",
    "\n",
    "signal = np.mean(img)\n",
    "noise = np.std(img)\n",
    "SNR = 10 * math.log(signal/noise, 10)\n",
    "\n",
    "print(signal)\n",
    "print(noise)\n",
    "print(SNR)\n",
    "print(signal/noise)"
   ]
  },
  {
   "cell_type": "code",
   "execution_count": null,
   "id": "287c8b5f",
   "metadata": {},
   "outputs": [],
   "source": []
  },
  {
   "cell_type": "code",
   "execution_count": null,
   "id": "b8c26e7e",
   "metadata": {},
   "outputs": [],
   "source": []
  }
 ],
 "metadata": {
  "kernelspec": {
   "display_name": "Python 3 (ipykernel)",
   "language": "python",
   "name": "python3"
  },
  "language_info": {
   "codemirror_mode": {
    "name": "ipython",
    "version": 3
   },
   "file_extension": ".py",
   "mimetype": "text/x-python",
   "name": "python",
   "nbconvert_exporter": "python",
   "pygments_lexer": "ipython3",
   "version": "3.8.5"
  }
 },
 "nbformat": 4,
 "nbformat_minor": 5
}
