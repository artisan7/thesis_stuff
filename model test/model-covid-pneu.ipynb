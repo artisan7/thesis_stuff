{
 "cells": [
  {
   "cell_type": "markdown",
   "id": "a7abdf52",
   "metadata": {},
   "source": [
    "# Retrieving the Dataset"
   ]
  },
  {
   "cell_type": "code",
   "execution_count": 1,
   "id": "c6bf7467",
   "metadata": {},
   "outputs": [
    {
     "data": {
      "text/html": [
       "<div>\n",
       "<style scoped>\n",
       "    .dataframe tbody tr th:only-of-type {\n",
       "        vertical-align: middle;\n",
       "    }\n",
       "\n",
       "    .dataframe tbody tr th {\n",
       "        vertical-align: top;\n",
       "    }\n",
       "\n",
       "    .dataframe thead th {\n",
       "        text-align: right;\n",
       "    }\n",
       "</style>\n",
       "<table border=\"1\" class=\"dataframe\">\n",
       "  <thead>\n",
       "    <tr style=\"text-align: right;\">\n",
       "      <th></th>\n",
       "      <th>Unnamed: 0</th>\n",
       "      <th>mean0</th>\n",
       "      <th>variance0</th>\n",
       "      <th>skewness0</th>\n",
       "      <th>uniformity0</th>\n",
       "      <th>snr0</th>\n",
       "      <th>mean1</th>\n",
       "      <th>variance1</th>\n",
       "      <th>skewness1</th>\n",
       "      <th>uniformity1</th>\n",
       "      <th>...</th>\n",
       "      <th>variance14</th>\n",
       "      <th>skewness14</th>\n",
       "      <th>uniformity14</th>\n",
       "      <th>snr14</th>\n",
       "      <th>mean15</th>\n",
       "      <th>variance15</th>\n",
       "      <th>skewness15</th>\n",
       "      <th>uniformity15</th>\n",
       "      <th>snr15</th>\n",
       "      <th>label</th>\n",
       "    </tr>\n",
       "  </thead>\n",
       "  <tbody>\n",
       "    <tr>\n",
       "      <th>0</th>\n",
       "      <td>0</td>\n",
       "      <td>70.153934</td>\n",
       "      <td>1897.820090</td>\n",
       "      <td>0.155578</td>\n",
       "      <td>154</td>\n",
       "      <td>1.610366</td>\n",
       "      <td>67.820031</td>\n",
       "      <td>1431.488738</td>\n",
       "      <td>0.101886</td>\n",
       "      <td>149</td>\n",
       "      <td>...</td>\n",
       "      <td>0.0</td>\n",
       "      <td>0.0</td>\n",
       "      <td>0</td>\n",
       "      <td>0.0</td>\n",
       "      <td>0.000000</td>\n",
       "      <td>0.000000</td>\n",
       "      <td>0.000000</td>\n",
       "      <td>0</td>\n",
       "      <td>0.000000</td>\n",
       "      <td>COVID-19</td>\n",
       "    </tr>\n",
       "    <tr>\n",
       "      <th>1</th>\n",
       "      <td>1</td>\n",
       "      <td>67.943420</td>\n",
       "      <td>1640.924326</td>\n",
       "      <td>0.179606</td>\n",
       "      <td>158</td>\n",
       "      <td>1.677271</td>\n",
       "      <td>62.438356</td>\n",
       "      <td>1516.524282</td>\n",
       "      <td>0.382945</td>\n",
       "      <td>153</td>\n",
       "      <td>...</td>\n",
       "      <td>0.0</td>\n",
       "      <td>0.0</td>\n",
       "      <td>0</td>\n",
       "      <td>0.0</td>\n",
       "      <td>125.818182</td>\n",
       "      <td>59.954257</td>\n",
       "      <td>0.105233</td>\n",
       "      <td>38</td>\n",
       "      <td>16.249253</td>\n",
       "      <td>COVID-19</td>\n",
       "    </tr>\n",
       "    <tr>\n",
       "      <th>2</th>\n",
       "      <td>2</td>\n",
       "      <td>85.324244</td>\n",
       "      <td>1666.530997</td>\n",
       "      <td>-0.291033</td>\n",
       "      <td>153</td>\n",
       "      <td>2.090094</td>\n",
       "      <td>61.805752</td>\n",
       "      <td>1425.903805</td>\n",
       "      <td>0.326995</td>\n",
       "      <td>145</td>\n",
       "      <td>...</td>\n",
       "      <td>0.0</td>\n",
       "      <td>0.0</td>\n",
       "      <td>0</td>\n",
       "      <td>0.0</td>\n",
       "      <td>0.000000</td>\n",
       "      <td>0.000000</td>\n",
       "      <td>0.000000</td>\n",
       "      <td>0</td>\n",
       "      <td>0.000000</td>\n",
       "      <td>COVID-19</td>\n",
       "    </tr>\n",
       "    <tr>\n",
       "      <th>3</th>\n",
       "      <td>3</td>\n",
       "      <td>84.536424</td>\n",
       "      <td>1134.304302</td>\n",
       "      <td>-0.575772</td>\n",
       "      <td>129</td>\n",
       "      <td>2.510031</td>\n",
       "      <td>85.243692</td>\n",
       "      <td>957.789884</td>\n",
       "      <td>-0.289562</td>\n",
       "      <td>136</td>\n",
       "      <td>...</td>\n",
       "      <td>0.0</td>\n",
       "      <td>0.0</td>\n",
       "      <td>0</td>\n",
       "      <td>0.0</td>\n",
       "      <td>105.758879</td>\n",
       "      <td>247.749337</td>\n",
       "      <td>-0.316222</td>\n",
       "      <td>64</td>\n",
       "      <td>6.719092</td>\n",
       "      <td>COVID-19</td>\n",
       "    </tr>\n",
       "    <tr>\n",
       "      <th>4</th>\n",
       "      <td>4</td>\n",
       "      <td>97.321200</td>\n",
       "      <td>1344.070831</td>\n",
       "      <td>-0.521123</td>\n",
       "      <td>164</td>\n",
       "      <td>2.654583</td>\n",
       "      <td>102.034224</td>\n",
       "      <td>1417.579232</td>\n",
       "      <td>-0.313052</td>\n",
       "      <td>155</td>\n",
       "      <td>...</td>\n",
       "      <td>0.0</td>\n",
       "      <td>0.0</td>\n",
       "      <td>0</td>\n",
       "      <td>0.0</td>\n",
       "      <td>121.310059</td>\n",
       "      <td>518.784337</td>\n",
       "      <td>-0.373516</td>\n",
       "      <td>95</td>\n",
       "      <td>5.326027</td>\n",
       "      <td>COVID-19</td>\n",
       "    </tr>\n",
       "  </tbody>\n",
       "</table>\n",
       "<p>5 rows × 82 columns</p>\n",
       "</div>"
      ],
      "text/plain": [
       "   Unnamed: 0      mean0    variance0  skewness0  uniformity0      snr0  \\\n",
       "0           0  70.153934  1897.820090   0.155578          154  1.610366   \n",
       "1           1  67.943420  1640.924326   0.179606          158  1.677271   \n",
       "2           2  85.324244  1666.530997  -0.291033          153  2.090094   \n",
       "3           3  84.536424  1134.304302  -0.575772          129  2.510031   \n",
       "4           4  97.321200  1344.070831  -0.521123          164  2.654583   \n",
       "\n",
       "        mean1    variance1  skewness1  uniformity1  ...  variance14  \\\n",
       "0   67.820031  1431.488738   0.101886          149  ...         0.0   \n",
       "1   62.438356  1516.524282   0.382945          153  ...         0.0   \n",
       "2   61.805752  1425.903805   0.326995          145  ...         0.0   \n",
       "3   85.243692   957.789884  -0.289562          136  ...         0.0   \n",
       "4  102.034224  1417.579232  -0.313052          155  ...         0.0   \n",
       "\n",
       "   skewness14  uniformity14  snr14      mean15  variance15  skewness15  \\\n",
       "0         0.0             0    0.0    0.000000    0.000000    0.000000   \n",
       "1         0.0             0    0.0  125.818182   59.954257    0.105233   \n",
       "2         0.0             0    0.0    0.000000    0.000000    0.000000   \n",
       "3         0.0             0    0.0  105.758879  247.749337   -0.316222   \n",
       "4         0.0             0    0.0  121.310059  518.784337   -0.373516   \n",
       "\n",
       "   uniformity15      snr15     label  \n",
       "0             0   0.000000  COVID-19  \n",
       "1            38  16.249253  COVID-19  \n",
       "2             0   0.000000  COVID-19  \n",
       "3            64   6.719092  COVID-19  \n",
       "4            95   5.326027  COVID-19  \n",
       "\n",
       "[5 rows x 82 columns]"
      ]
     },
     "execution_count": 1,
     "metadata": {},
     "output_type": "execute_result"
    }
   ],
   "source": [
    "# claiming the dataset\n",
    "import pandas as pd\n",
    "\n",
    "cxr_dataset = pd.read_csv(\"../features.csv\")\n",
    "cxr_dataset.head()"
   ]
  },
  {
   "cell_type": "code",
   "execution_count": 2,
   "id": "a33b9e86",
   "metadata": {},
   "outputs": [
    {
     "data": {
      "text/plain": [
       "array(['COVID-19', 'Pneumonia'], dtype=object)"
      ]
     },
     "execution_count": 2,
     "metadata": {},
     "output_type": "execute_result"
    }
   ],
   "source": [
    "drop_rows = cxr_dataset.loc[cxr_dataset['label'] == 'No Finding']\n",
    "cxr_dataset.drop(drop_rows.index, inplace=True)\n",
    "cxr_dataset['label'].unique()"
   ]
  },
  {
   "cell_type": "markdown",
   "id": "4b38b63f",
   "metadata": {},
   "source": [
    "# Splitting the dataset to train and test"
   ]
  },
  {
   "cell_type": "code",
   "execution_count": 3,
   "id": "d8710f91",
   "metadata": {
    "scrolled": true
   },
   "outputs": [
    {
     "data": {
      "text/html": [
       "<div>\n",
       "<style scoped>\n",
       "    .dataframe tbody tr th:only-of-type {\n",
       "        vertical-align: middle;\n",
       "    }\n",
       "\n",
       "    .dataframe tbody tr th {\n",
       "        vertical-align: top;\n",
       "    }\n",
       "\n",
       "    .dataframe thead th {\n",
       "        text-align: right;\n",
       "    }\n",
       "</style>\n",
       "<table border=\"1\" class=\"dataframe\">\n",
       "  <thead>\n",
       "    <tr style=\"text-align: right;\">\n",
       "      <th></th>\n",
       "      <th>0</th>\n",
       "      <th>1</th>\n",
       "      <th>2</th>\n",
       "      <th>3</th>\n",
       "      <th>4</th>\n",
       "      <th>5</th>\n",
       "      <th>6</th>\n",
       "      <th>7</th>\n",
       "      <th>8</th>\n",
       "      <th>9</th>\n",
       "      <th>...</th>\n",
       "      <th>70</th>\n",
       "      <th>71</th>\n",
       "      <th>72</th>\n",
       "      <th>73</th>\n",
       "      <th>74</th>\n",
       "      <th>75</th>\n",
       "      <th>76</th>\n",
       "      <th>77</th>\n",
       "      <th>78</th>\n",
       "      <th>79</th>\n",
       "    </tr>\n",
       "  </thead>\n",
       "  <tbody>\n",
       "    <tr>\n",
       "      <th>0</th>\n",
       "      <td>70.153934</td>\n",
       "      <td>1897.820090</td>\n",
       "      <td>0.155578</td>\n",
       "      <td>154.0</td>\n",
       "      <td>1.610366</td>\n",
       "      <td>67.820031</td>\n",
       "      <td>1431.488738</td>\n",
       "      <td>0.101886</td>\n",
       "      <td>149.0</td>\n",
       "      <td>1.792520</td>\n",
       "      <td>...</td>\n",
       "      <td>0.0</td>\n",
       "      <td>0.0</td>\n",
       "      <td>0.0</td>\n",
       "      <td>0.0</td>\n",
       "      <td>0.0</td>\n",
       "      <td>0.000000</td>\n",
       "      <td>0.000000</td>\n",
       "      <td>0.000000</td>\n",
       "      <td>0.0</td>\n",
       "      <td>0.000000</td>\n",
       "    </tr>\n",
       "    <tr>\n",
       "      <th>1</th>\n",
       "      <td>67.943420</td>\n",
       "      <td>1640.924326</td>\n",
       "      <td>0.179606</td>\n",
       "      <td>158.0</td>\n",
       "      <td>1.677271</td>\n",
       "      <td>62.438356</td>\n",
       "      <td>1516.524282</td>\n",
       "      <td>0.382945</td>\n",
       "      <td>153.0</td>\n",
       "      <td>1.603344</td>\n",
       "      <td>...</td>\n",
       "      <td>0.0</td>\n",
       "      <td>0.0</td>\n",
       "      <td>0.0</td>\n",
       "      <td>0.0</td>\n",
       "      <td>0.0</td>\n",
       "      <td>125.818182</td>\n",
       "      <td>59.954257</td>\n",
       "      <td>0.105233</td>\n",
       "      <td>38.0</td>\n",
       "      <td>16.249253</td>\n",
       "    </tr>\n",
       "    <tr>\n",
       "      <th>2</th>\n",
       "      <td>85.324244</td>\n",
       "      <td>1666.530997</td>\n",
       "      <td>-0.291033</td>\n",
       "      <td>153.0</td>\n",
       "      <td>2.090094</td>\n",
       "      <td>61.805752</td>\n",
       "      <td>1425.903805</td>\n",
       "      <td>0.326995</td>\n",
       "      <td>145.0</td>\n",
       "      <td>1.636755</td>\n",
       "      <td>...</td>\n",
       "      <td>0.0</td>\n",
       "      <td>0.0</td>\n",
       "      <td>0.0</td>\n",
       "      <td>0.0</td>\n",
       "      <td>0.0</td>\n",
       "      <td>0.000000</td>\n",
       "      <td>0.000000</td>\n",
       "      <td>0.000000</td>\n",
       "      <td>0.0</td>\n",
       "      <td>0.000000</td>\n",
       "    </tr>\n",
       "    <tr>\n",
       "      <th>3</th>\n",
       "      <td>84.536424</td>\n",
       "      <td>1134.304302</td>\n",
       "      <td>-0.575772</td>\n",
       "      <td>129.0</td>\n",
       "      <td>2.510031</td>\n",
       "      <td>85.243692</td>\n",
       "      <td>957.789884</td>\n",
       "      <td>-0.289562</td>\n",
       "      <td>136.0</td>\n",
       "      <td>2.754401</td>\n",
       "      <td>...</td>\n",
       "      <td>0.0</td>\n",
       "      <td>0.0</td>\n",
       "      <td>0.0</td>\n",
       "      <td>0.0</td>\n",
       "      <td>0.0</td>\n",
       "      <td>105.758879</td>\n",
       "      <td>247.749337</td>\n",
       "      <td>-0.316222</td>\n",
       "      <td>64.0</td>\n",
       "      <td>6.719092</td>\n",
       "    </tr>\n",
       "    <tr>\n",
       "      <th>4</th>\n",
       "      <td>97.321200</td>\n",
       "      <td>1344.070831</td>\n",
       "      <td>-0.521123</td>\n",
       "      <td>164.0</td>\n",
       "      <td>2.654583</td>\n",
       "      <td>102.034224</td>\n",
       "      <td>1417.579232</td>\n",
       "      <td>-0.313052</td>\n",
       "      <td>155.0</td>\n",
       "      <td>2.710018</td>\n",
       "      <td>...</td>\n",
       "      <td>0.0</td>\n",
       "      <td>0.0</td>\n",
       "      <td>0.0</td>\n",
       "      <td>0.0</td>\n",
       "      <td>0.0</td>\n",
       "      <td>121.310059</td>\n",
       "      <td>518.784337</td>\n",
       "      <td>-0.373516</td>\n",
       "      <td>95.0</td>\n",
       "      <td>5.326027</td>\n",
       "    </tr>\n",
       "    <tr>\n",
       "      <th>...</th>\n",
       "      <td>...</td>\n",
       "      <td>...</td>\n",
       "      <td>...</td>\n",
       "      <td>...</td>\n",
       "      <td>...</td>\n",
       "      <td>...</td>\n",
       "      <td>...</td>\n",
       "      <td>...</td>\n",
       "      <td>...</td>\n",
       "      <td>...</td>\n",
       "      <td>...</td>\n",
       "      <td>...</td>\n",
       "      <td>...</td>\n",
       "      <td>...</td>\n",
       "      <td>...</td>\n",
       "      <td>...</td>\n",
       "      <td>...</td>\n",
       "      <td>...</td>\n",
       "      <td>...</td>\n",
       "      <td>...</td>\n",
       "      <td>...</td>\n",
       "    </tr>\n",
       "    <tr>\n",
       "      <th>195</th>\n",
       "      <td>51.064488</td>\n",
       "      <td>991.876323</td>\n",
       "      <td>0.621574</td>\n",
       "      <td>126.0</td>\n",
       "      <td>1.621400</td>\n",
       "      <td>52.246799</td>\n",
       "      <td>729.717895</td>\n",
       "      <td>0.936405</td>\n",
       "      <td>126.0</td>\n",
       "      <td>1.934115</td>\n",
       "      <td>...</td>\n",
       "      <td>0.0</td>\n",
       "      <td>0.0</td>\n",
       "      <td>0.0</td>\n",
       "      <td>0.0</td>\n",
       "      <td>0.0</td>\n",
       "      <td>0.000000</td>\n",
       "      <td>0.000000</td>\n",
       "      <td>0.000000</td>\n",
       "      <td>0.0</td>\n",
       "      <td>0.000000</td>\n",
       "    </tr>\n",
       "    <tr>\n",
       "      <th>196</th>\n",
       "      <td>77.161636</td>\n",
       "      <td>1411.740183</td>\n",
       "      <td>-0.000914</td>\n",
       "      <td>146.0</td>\n",
       "      <td>2.053639</td>\n",
       "      <td>87.498747</td>\n",
       "      <td>1487.581661</td>\n",
       "      <td>-0.322070</td>\n",
       "      <td>152.0</td>\n",
       "      <td>2.268618</td>\n",
       "      <td>...</td>\n",
       "      <td>0.0</td>\n",
       "      <td>0.0</td>\n",
       "      <td>0.0</td>\n",
       "      <td>0.0</td>\n",
       "      <td>0.0</td>\n",
       "      <td>109.789790</td>\n",
       "      <td>496.532388</td>\n",
       "      <td>-0.281837</td>\n",
       "      <td>90.0</td>\n",
       "      <td>4.927064</td>\n",
       "    </tr>\n",
       "    <tr>\n",
       "      <th>197</th>\n",
       "      <td>66.613725</td>\n",
       "      <td>1141.174321</td>\n",
       "      <td>0.262282</td>\n",
       "      <td>139.0</td>\n",
       "      <td>1.971913</td>\n",
       "      <td>69.993325</td>\n",
       "      <td>1126.649834</td>\n",
       "      <td>0.166404</td>\n",
       "      <td>150.0</td>\n",
       "      <td>2.085269</td>\n",
       "      <td>...</td>\n",
       "      <td>0.0</td>\n",
       "      <td>0.0</td>\n",
       "      <td>0.0</td>\n",
       "      <td>0.0</td>\n",
       "      <td>0.0</td>\n",
       "      <td>98.164975</td>\n",
       "      <td>526.625068</td>\n",
       "      <td>-0.138085</td>\n",
       "      <td>89.0</td>\n",
       "      <td>4.277655</td>\n",
       "    </tr>\n",
       "    <tr>\n",
       "      <th>198</th>\n",
       "      <td>88.374892</td>\n",
       "      <td>2123.046469</td>\n",
       "      <td>-0.183495</td>\n",
       "      <td>172.0</td>\n",
       "      <td>1.918002</td>\n",
       "      <td>69.177031</td>\n",
       "      <td>1328.168100</td>\n",
       "      <td>0.021836</td>\n",
       "      <td>148.0</td>\n",
       "      <td>1.898171</td>\n",
       "      <td>...</td>\n",
       "      <td>0.0</td>\n",
       "      <td>0.0</td>\n",
       "      <td>0.0</td>\n",
       "      <td>0.0</td>\n",
       "      <td>0.0</td>\n",
       "      <td>0.000000</td>\n",
       "      <td>0.000000</td>\n",
       "      <td>0.000000</td>\n",
       "      <td>0.0</td>\n",
       "      <td>0.000000</td>\n",
       "    </tr>\n",
       "    <tr>\n",
       "      <th>199</th>\n",
       "      <td>77.365600</td>\n",
       "      <td>1558.363137</td>\n",
       "      <td>0.249453</td>\n",
       "      <td>148.0</td>\n",
       "      <td>1.959808</td>\n",
       "      <td>87.140704</td>\n",
       "      <td>895.150339</td>\n",
       "      <td>0.015729</td>\n",
       "      <td>112.0</td>\n",
       "      <td>2.912548</td>\n",
       "      <td>...</td>\n",
       "      <td>0.0</td>\n",
       "      <td>0.0</td>\n",
       "      <td>0.0</td>\n",
       "      <td>0.0</td>\n",
       "      <td>0.0</td>\n",
       "      <td>112.694414</td>\n",
       "      <td>241.149772</td>\n",
       "      <td>0.126530</td>\n",
       "      <td>55.0</td>\n",
       "      <td>7.257031</td>\n",
       "    </tr>\n",
       "  </tbody>\n",
       "</table>\n",
       "<p>200 rows × 80 columns</p>\n",
       "</div>"
      ],
      "text/plain": [
       "            0            1         2      3         4           5   \\\n",
       "0    70.153934  1897.820090  0.155578  154.0  1.610366   67.820031   \n",
       "1    67.943420  1640.924326  0.179606  158.0  1.677271   62.438356   \n",
       "2    85.324244  1666.530997 -0.291033  153.0  2.090094   61.805752   \n",
       "3    84.536424  1134.304302 -0.575772  129.0  2.510031   85.243692   \n",
       "4    97.321200  1344.070831 -0.521123  164.0  2.654583  102.034224   \n",
       "..         ...          ...       ...    ...       ...         ...   \n",
       "195  51.064488   991.876323  0.621574  126.0  1.621400   52.246799   \n",
       "196  77.161636  1411.740183 -0.000914  146.0  2.053639   87.498747   \n",
       "197  66.613725  1141.174321  0.262282  139.0  1.971913   69.993325   \n",
       "198  88.374892  2123.046469 -0.183495  172.0  1.918002   69.177031   \n",
       "199  77.365600  1558.363137  0.249453  148.0  1.959808   87.140704   \n",
       "\n",
       "              6         7      8         9   ...   70   71   72   73   74  \\\n",
       "0    1431.488738  0.101886  149.0  1.792520  ...  0.0  0.0  0.0  0.0  0.0   \n",
       "1    1516.524282  0.382945  153.0  1.603344  ...  0.0  0.0  0.0  0.0  0.0   \n",
       "2    1425.903805  0.326995  145.0  1.636755  ...  0.0  0.0  0.0  0.0  0.0   \n",
       "3     957.789884 -0.289562  136.0  2.754401  ...  0.0  0.0  0.0  0.0  0.0   \n",
       "4    1417.579232 -0.313052  155.0  2.710018  ...  0.0  0.0  0.0  0.0  0.0   \n",
       "..           ...       ...    ...       ...  ...  ...  ...  ...  ...  ...   \n",
       "195   729.717895  0.936405  126.0  1.934115  ...  0.0  0.0  0.0  0.0  0.0   \n",
       "196  1487.581661 -0.322070  152.0  2.268618  ...  0.0  0.0  0.0  0.0  0.0   \n",
       "197  1126.649834  0.166404  150.0  2.085269  ...  0.0  0.0  0.0  0.0  0.0   \n",
       "198  1328.168100  0.021836  148.0  1.898171  ...  0.0  0.0  0.0  0.0  0.0   \n",
       "199   895.150339  0.015729  112.0  2.912548  ...  0.0  0.0  0.0  0.0  0.0   \n",
       "\n",
       "             75          76        77    78         79  \n",
       "0      0.000000    0.000000  0.000000   0.0   0.000000  \n",
       "1    125.818182   59.954257  0.105233  38.0  16.249253  \n",
       "2      0.000000    0.000000  0.000000   0.0   0.000000  \n",
       "3    105.758879  247.749337 -0.316222  64.0   6.719092  \n",
       "4    121.310059  518.784337 -0.373516  95.0   5.326027  \n",
       "..          ...         ...       ...   ...        ...  \n",
       "195    0.000000    0.000000  0.000000   0.0   0.000000  \n",
       "196  109.789790  496.532388 -0.281837  90.0   4.927064  \n",
       "197   98.164975  526.625068 -0.138085  89.0   4.277655  \n",
       "198    0.000000    0.000000  0.000000   0.0   0.000000  \n",
       "199  112.694414  241.149772  0.126530  55.0   7.257031  \n",
       "\n",
       "[200 rows x 80 columns]"
      ]
     },
     "metadata": {},
     "output_type": "display_data"
    }
   ],
   "source": [
    "# Getting the features needed\n",
    "\n",
    "#get the feature columns\n",
    "col_features = list(cxr_dataset.columns)\n",
    "#get the label column\n",
    "label = list(cxr_dataset.columns).pop()\n",
    "#deleting label column from col\n",
    "del col_features[0]\n",
    "del col_features[len(col_features) - 1]\n",
    "\n",
    "features = cxr_dataset.loc[:, col_features].values\n",
    "labels = cxr_dataset.loc[:, label].values\n",
    "\n",
    "display(pd.DataFrame(features))"
   ]
  },
  {
   "cell_type": "code",
   "execution_count": 4,
   "id": "780bbd55",
   "metadata": {},
   "outputs": [],
   "source": [
    "from sklearn.model_selection import train_test_split\n",
    "\n",
    "# Separating test and train dataset\n",
    "train_features, test_features, train_lbl, test_lbl = train_test_split( features, labels, test_size=0.2, random_state=0)"
   ]
  },
  {
   "cell_type": "code",
   "execution_count": 5,
   "id": "9a48bb68",
   "metadata": {},
   "outputs": [],
   "source": [
    "#Standardizing the Dataset\n",
    "from sklearn.preprocessing import StandardScaler\n",
    "\n",
    "scaler = StandardScaler()\n",
    "\n",
    "# Fitting of training dataset only\n",
    "scaler.fit(train_features)\n",
    "\n",
    "# Apply transform to both the training set and the test set.\n",
    "train_features = scaler.transform(train_features)\n",
    "test_features = scaler.transform(test_features)"
   ]
  },
  {
   "cell_type": "markdown",
   "id": "d4bc8e8a",
   "metadata": {},
   "source": [
    "# Applying Principal Component Analysis"
   ]
  },
  {
   "cell_type": "code",
   "execution_count": 6,
   "id": "97c782ad",
   "metadata": {},
   "outputs": [],
   "source": [
    "# Feeding it to Principal Component Analysis\n",
    "from sklearn.decomposition import PCA\n",
    "\n",
    "# 5 different variance\n",
    "variances = [\"100%\", \"99%\", \"95%\", \"90%\", \"85%\"]\n",
    "pca = [PCA(), PCA(.99), PCA(.95), PCA(.90), PCA(.85)]\n",
    "# results of each PCA variance\n",
    "pca_fit = []\n",
    "\n",
    "for p in pca:\n",
    "    pca_content = {\"fit\": None, \"transforms\": {\"train\": None, \"test\": None}}\n",
    "    pca_content[\"fit\"] = p.fit(train_features)\n",
    "    pca_content[\"transforms\"][\"train\"] = p.transform(train_features)\n",
    "    pca_content[\"transforms\"][\"test\"] = p.transform(test_features)\n",
    "    pca_fit.append(pca_content)"
   ]
  },
  {
   "cell_type": "code",
   "execution_count": 7,
   "id": "47335328",
   "metadata": {},
   "outputs": [
    {
     "name": "stdout",
     "output_type": "stream",
     "text": [
      "From 80 features\n",
      "Principal Components with 100% variance: 80\n",
      "Principal Components with 99% variance: 56\n",
      "Principal Components with 95% variance: 38\n",
      "Principal Components with 90% variance: 28\n",
      "Principal Components with 85% variance: 23\n"
     ]
    }
   ],
   "source": [
    "# checking the number of Principal Component\n",
    "print(\"From 80 features\")\n",
    "for i in range(len(variances)):\n",
    "    print(f\"Principal Components with {variances[i]} variance:\", pca_fit[i][\"fit\"].n_components_)"
   ]
  },
  {
   "cell_type": "markdown",
   "id": "035c37aa",
   "metadata": {},
   "source": [
    "# Applying Linear Discriminant Analysis"
   ]
  },
  {
   "cell_type": "markdown",
   "id": "604e2987",
   "metadata": {},
   "source": [
    "### Libraries Needed"
   ]
  },
  {
   "cell_type": "code",
   "execution_count": 8,
   "id": "52abb650",
   "metadata": {},
   "outputs": [],
   "source": [
    "from sklearn.discriminant_analysis import LinearDiscriminantAnalysis\n",
    "from sklearn.model_selection import StratifiedKFold\n",
    "from sklearn.datasets import make_classification\n",
    "from sklearn.model_selection import cross_val_score\n",
    "\n",
    "import numpy as np\n",
    "\n",
    "lda = LinearDiscriminantAnalysis()"
   ]
  },
  {
   "cell_type": "markdown",
   "id": "febc49f3",
   "metadata": {},
   "source": [
    "### With Principal Component Analysis"
   ]
  },
  {
   "cell_type": "code",
   "execution_count": 9,
   "id": "771cf846",
   "metadata": {
    "scrolled": true
   },
   "outputs": [
    {
     "name": "stdout",
     "output_type": "stream",
     "text": [
      "Variance of 100%:\n",
      "Mean Accuracy: 0.6000 (0.0800)\n",
      "\n",
      "Variance of 99%:\n",
      "Mean Accuracy: 0.5687 (0.0859)\n",
      "\n",
      "Variance of 95%:\n",
      "Mean Accuracy: 0.5437 (0.1342)\n",
      "\n",
      "Variance of 90%:\n",
      "Mean Accuracy: 0.5687 (0.1517)\n",
      "\n",
      "Variance of 85%:\n",
      "Mean Accuracy: 0.5750 (0.1672)\n",
      "\n"
     ]
    }
   ],
   "source": [
    "# Evaluating of Model\n",
    "for i in range(len(pca_fit)):\n",
    "    # define model evaluation method\n",
    "    cv = StratifiedKFold(n_splits=10, random_state=1, shuffle=True)\n",
    "    # evaluate model\n",
    "    scores = cross_val_score(lda, pca_fit[i][\"transforms\"][\"train\"], np.ravel(train_lbl), scoring='accuracy', cv=cv)\n",
    "    # summarize result\n",
    "    print('Variance of %s:\\nMean Accuracy: %.4f (%.4f)\\n' % (variances[i], np.mean(scores), np.std(scores)))"
   ]
  },
  {
   "cell_type": "code",
   "execution_count": 10,
   "id": "4deed3cf",
   "metadata": {},
   "outputs": [],
   "source": [
    "#Train the model\n",
    "results = [] # where all the results will place\n",
    "ldas = []\n",
    "\n",
    "for i in range(len(pca_fit)):\n",
    "    lda_train = lda.fit(pca_fit[i][\"transforms\"][\"train\"], np.ravel(train_lbl))\n",
    "    ldas.append(lda_train)\n",
    "    predictions = lda_train.predict(pca_fit[i][\"transforms\"][\"test\"])\n",
    "    results.append(predictions)"
   ]
  },
  {
   "cell_type": "code",
   "execution_count": 11,
   "id": "b69b4ca5",
   "metadata": {},
   "outputs": [
    {
     "name": "stdout",
     "output_type": "stream",
     "text": [
      "Variance of 100%\n",
      "Accuracy Score - 0.55\n",
      "Confusion Matrix\n",
      "[[14  4]\n",
      " [14  8]]\n",
      "Classification Report\n",
      "              precision    recall  f1-score   support\n",
      "\n",
      "    COVID-19       0.50      0.78      0.61        18\n",
      "   Pneumonia       0.67      0.36      0.47        22\n",
      "\n",
      "    accuracy                           0.55        40\n",
      "   macro avg       0.58      0.57      0.54        40\n",
      "weighted avg       0.59      0.55      0.53        40\n",
      "\n",
      "\n",
      "Variance of 99%\n",
      "Accuracy Score - 0.65\n",
      "Confusion Matrix\n",
      "[[14  4]\n",
      " [10 12]]\n",
      "Classification Report\n",
      "              precision    recall  f1-score   support\n",
      "\n",
      "    COVID-19       0.58      0.78      0.67        18\n",
      "   Pneumonia       0.75      0.55      0.63        22\n",
      "\n",
      "    accuracy                           0.65        40\n",
      "   macro avg       0.67      0.66      0.65        40\n",
      "weighted avg       0.68      0.65      0.65        40\n",
      "\n",
      "\n",
      "Variance of 95%\n",
      "Accuracy Score - 0.6\n",
      "Confusion Matrix\n",
      "[[14  4]\n",
      " [12 10]]\n",
      "Classification Report\n",
      "              precision    recall  f1-score   support\n",
      "\n",
      "    COVID-19       0.54      0.78      0.64        18\n",
      "   Pneumonia       0.71      0.45      0.56        22\n",
      "\n",
      "    accuracy                           0.60        40\n",
      "   macro avg       0.63      0.62      0.60        40\n",
      "weighted avg       0.64      0.60      0.59        40\n",
      "\n",
      "\n",
      "Variance of 90%\n",
      "Accuracy Score - 0.65\n",
      "Confusion Matrix\n",
      "[[15  3]\n",
      " [11 11]]\n",
      "Classification Report\n",
      "              precision    recall  f1-score   support\n",
      "\n",
      "    COVID-19       0.58      0.83      0.68        18\n",
      "   Pneumonia       0.79      0.50      0.61        22\n",
      "\n",
      "    accuracy                           0.65        40\n",
      "   macro avg       0.68      0.67      0.65        40\n",
      "weighted avg       0.69      0.65      0.64        40\n",
      "\n",
      "\n",
      "Variance of 85%\n",
      "Accuracy Score - 0.625\n",
      "Confusion Matrix\n",
      "[[14  4]\n",
      " [11 11]]\n",
      "Classification Report\n",
      "              precision    recall  f1-score   support\n",
      "\n",
      "    COVID-19       0.56      0.78      0.65        18\n",
      "   Pneumonia       0.73      0.50      0.59        22\n",
      "\n",
      "    accuracy                           0.62        40\n",
      "   macro avg       0.65      0.64      0.62        40\n",
      "weighted avg       0.66      0.62      0.62        40\n",
      "\n",
      "\n"
     ]
    }
   ],
   "source": [
    "from sklearn.metrics import accuracy_score\n",
    "from sklearn.metrics import classification_report\n",
    "from sklearn.metrics import confusion_matrix\n",
    "\n",
    "for i in range(len(pca_fit)):\n",
    "    print(\"Variance of\", variances[i])\n",
    "    print(\"Accuracy Score -\", accuracy_score(test_lbl, results[i]))\n",
    "    \n",
    "    print(\"Confusion Matrix\")\n",
    "    print(confusion_matrix(test_lbl, results[i]))\n",
    "    \n",
    "    print(\"Classification Report\")\n",
    "    print(classification_report(test_lbl, results[i]))\n",
    "    \n",
    "    print()"
   ]
  },
  {
   "cell_type": "markdown",
   "id": "222ea06a",
   "metadata": {},
   "source": [
    "### Without Principal Component Analysis"
   ]
  },
  {
   "cell_type": "code",
   "execution_count": 12,
   "id": "2081dfc8",
   "metadata": {},
   "outputs": [
    {
     "name": "stdout",
     "output_type": "stream",
     "text": [
      "Linear Discriminant Analysis Cross Validation Score:\n",
      "Mean Accuracy - 0.6000 (0.0800)\n",
      "\n"
     ]
    }
   ],
   "source": [
    "# Performing towards the untransformed dataset\n",
    "\n",
    "# define model evaluation method\n",
    "cv = StratifiedKFold(n_splits=10, random_state=1, shuffle=True)\n",
    "\n",
    "# evaluate model\n",
    "scores = cross_val_score(lda, train_features, np.ravel(train_lbl), scoring='accuracy', cv=cv)\n",
    "\n",
    "# summarize result\n",
    "print('Linear Discriminant Analysis Cross Validation Score:\\nMean Accuracy - %.4f (%.4f)\\n' % (np.mean(scores), np.std(scores)))"
   ]
  },
  {
   "cell_type": "code",
   "execution_count": 13,
   "id": "825e5b4a",
   "metadata": {},
   "outputs": [],
   "source": [
    "lda.fit(train_features, np.ravel(train_lbl))\n",
    "predictions = lda.predict(test_features)"
   ]
  },
  {
   "cell_type": "code",
   "execution_count": 14,
   "id": "bd4a4ec0",
   "metadata": {},
   "outputs": [
    {
     "name": "stdout",
     "output_type": "stream",
     "text": [
      "Linear Disriminant Analysis Performance\n",
      "Accuracy Score - 0.55\n",
      "Confusion Matrix\n",
      "[[14  4]\n",
      " [14  8]]\n",
      "Classification Report\n",
      "              precision    recall  f1-score   support\n",
      "\n",
      "    COVID-19       0.50      0.78      0.61        18\n",
      "   Pneumonia       0.67      0.36      0.47        22\n",
      "\n",
      "    accuracy                           0.55        40\n",
      "   macro avg       0.58      0.57      0.54        40\n",
      "weighted avg       0.59      0.55      0.53        40\n",
      "\n"
     ]
    }
   ],
   "source": [
    "print(\"Linear Disriminant Analysis Performance\")\n",
    "print(\"Accuracy Score -\", accuracy_score(test_lbl, predictions))\n",
    "\n",
    "print(\"Confusion Matrix\")\n",
    "print(confusion_matrix(test_lbl, predictions))\n",
    "\n",
    "print(\"Classification Report\")\n",
    "print(classification_report(test_lbl, predictions))"
   ]
  },
  {
   "cell_type": "code",
   "execution_count": 15,
   "id": "678da2d9",
   "metadata": {},
   "outputs": [],
   "source": [
    "# saving model as a pickle\n",
    "#import pickle\n",
    "\n",
    "#pickle.dump(ldas[1],open(\"lda1-covid-pneu.sav\", \"wb\"))"
   ]
  },
  {
   "cell_type": "code",
   "execution_count": 16,
   "id": "3442746a",
   "metadata": {},
   "outputs": [],
   "source": [
    "#accuracy_score(test_lbl, results[1])\n",
    "#ldas[1].predict([[80.69947407963937, 1269.4288426986145, -0.67499210392419, 144, 2.2649912237562297, 59.89109766637856, 1560.3788057959928, 0.4601313161779094, 142, 1.5161677386578594, 65.7536231884058, 1726.2668346985924, -0.08865097966591508, 124, 1.5825801898436467, 48.15653495440729, 1324.0773205162554, 0.4718451803368274, 134, 1.3234226306095302, 102.12631578947368, 321.77351800554015, 0.022913679792898232, 69, 5.693279637440712, 86.16784702549575, 470.625510095579, 0.186041642695024, 95, 3.9719841769645834, 0, 0, 0, 0, 0, 113.52201257861635, 119.24322613820655, -0.30065746045526565, 44, 10.395927047576272, 98.92756756756756, 338.21421300219146, 0.17355633855272548, 76, 5.379245975588224, 95.11693548387096, 258.13148738293444, 0.46243019975144345, 68, 5.920213346079804, 0, 0, 0, 0, 0, 79.04697986577182, 1382.5011485969098, -0.2991781648197267, 130, 2.1259474789571735, 0, 0, 0, 0, 0, 0, 0, 0, 0, 0, 0, 0, 0, 0, 0, 52.550424128180964, 2109.4293612715765, 0.32448564427869414, 133, 1.1441783666827834]])"
   ]
  },
  {
   "cell_type": "code",
   "execution_count": 18,
   "id": "8501f2e7",
   "metadata": {},
   "outputs": [
    {
     "data": {
      "image/png": "[encoded data removed]",
      "text/plain": [
       "<Figure size 432x288 with 2 Axes>"
      ]
     },
     "metadata": {
      "needs_background": "light"
     },
     "output_type": "display_data"
    },
    {
     "data": {
      "image/png": "[encoded data removed]",
      "text/plain": [
       "<Figure size 432x288 with 2 Axes>"
      ]
     },
     "metadata": {
      "needs_background": "light"
     },
     "output_type": "display_data"
    },
    {
     "data": {
      "image/png": "[encoded data removed]",
      "text/plain": [
       "<Figure size 432x288 with 2 Axes>"
      ]
     },
     "metadata": {
      "needs_background": "light"
     },
     "output_type": "display_data"
    },
    {
     "data": {
      "image/png": "[encoded data removed]",
      "text/plain": [
       "<Figure size 432x288 with 2 Axes>"
      ]
     },
     "metadata": {
      "needs_background": "light"
     },
     "output_type": "display_data"
    },
    {
     "data": {
      "image/png": "[encoded data removed]",
      "text/plain": [
       "<Figure size 432x288 with 2 Axes>"
      ]
     },
     "metadata": {
      "needs_background": "light"
     },
     "output_type": "display_data"
    }
   ],
   "source": [
    "#Display Confusion Matrix\n",
    "#Credits: https://gist.github.com/shaypal5/94c53d765083101efc0240d776a23823\n",
    "import matplotlib.pyplot as plt\n",
    "from sklearn.metrics import ConfusionMatrixDisplay\n",
    "import seaborn as sns\n",
    "\n",
    "\n",
    "for conf_idx in range(len(results)):\n",
    "    conf_matrix = confusion_matrix(test_lbl, results[conf_idx])\n",
    "    df_cm = pd.DataFrame(\n",
    "        conf_matrix, index=['COVID-19', 'Pneumonia'], columns=['COVID-19', 'Pneumonia'], \n",
    "    )\n",
    "    \n",
    "    heatmap = sns.heatmap(df_cm, annot=True, fmt='d')\n",
    "    \n",
    "    plt.ylabel(\"True Label\")\n",
    "    plt.xlabel(\"Predicted\")\n",
    "    plt.show()"
   ]
  },
  {
   "cell_type": "code",
   "execution_count": 29,
   "id": "b65ecede",
   "metadata": {},
   "outputs": [
    {
     "data": {
      "image/png": "[encoded data removed]",
      "text/plain": [
       "<Figure size 432x288 with 1 Axes>"
      ]
     },
     "metadata": {
      "needs_background": "light"
     },
     "output_type": "display_data"
    }
   ],
   "source": [
    "# For Accuracy, Precision, \n",
    "accuracies = []\n",
    "threshold = -0.1\n",
    "\n",
    "fig = plt.figure()\n",
    "ax = fig.add_axes([0,1,1,1])\n",
    "\n",
    "for i in range(len(results)):\n",
    "    accuracies.append(accuracy_score(test_lbl, results[i]))\n",
    "    ax.text(0.4, threshold, str(round(accuracies[i]*100, 2)) + '%', color='white', fontweight='bold', fontsize=\"xx-large\")\n",
    "    threshold = threshold + 1\n",
    "    \n",
    "ax.barh(variances, accuracies)\n",
    "ax.set(xlim=[0, 1])\n",
    "ax.set_ylabel('Accuracy Score')\n",
    "ax.set_xlabel('Variance')\n",
    "plt.title(\"Accuracy\")\n",
    "plt.show()"
   ]
  },
  {
   "cell_type": "code",
   "execution_count": 46,
   "id": "a6e95ac8",
   "metadata": {},
   "outputs": [],
   "source": [
    "from sklearn.metrics import precision_score, recall_score, f1_score\n",
    "\n",
    "# Functions\n",
    "def getPrecisionScore(result, label, avg = 'binary'):\n",
    "    return precision_score(test_lbl, result, average=avg, pos_label=label)\n",
    "    \n",
    "def getRecallScore(result, label, avg = 'binary'):\n",
    "    return recall_score(test_lbl, result, average=avg, pos_label=label)\n",
    "\n",
    "def getF1Score(result, label, avg = 'binary'):\n",
    "    return f1_score(test_lbl, result, average=avg, pos_label=label)"
   ]
  },
  {
   "cell_type": "code",
   "execution_count": 51,
   "id": "4e5f811d",
   "metadata": {},
   "outputs": [],
   "source": [
    "#Function for Classification Report Horizontal Bar Graph.\n",
    "# Applicable for 2 class only\n",
    "def barHCustom(title, scoreFunction, results, class_labels):\n",
    "    \n",
    "    def textBarh(starting, variance, fontweight='regular'):\n",
    "        ax.text(0.2, starting, str(round(variance, 2)) + '%', color='white', fontweight='bold', fontsize=\"medium\")\n",
    "        \n",
    "    #Get data score of each label\n",
    "    data = [\n",
    "        [scoreFunction(r, \"COVID-19\") for r in results],\n",
    "        [scoreFunction(r, \"Pneumonia\") for r in results]\n",
    "    ]\n",
    "    \n",
    "    ind = np.arange(5)\n",
    "    width = 0.4\n",
    "\n",
    "    fig, ax = plt.subplots()\n",
    "    ax.barh(ind + 0.20, data[0], width, color='green', label=class_labels[0])\n",
    "    ax.barh(ind + 0.60, data[1], width, color='red', label=class_labels[1])\n",
    "    \n",
    "    starting = 0.1\n",
    "    for d in data[0]:\n",
    "        textBarh(starting, d*100)\n",
    "        starting = starting + 1\n",
    "\n",
    "    starting = 0.5\n",
    "    for d in data[1]:\n",
    "        textBarh(starting, d*100)\n",
    "        starting = starting + 1  \n",
    "        \n",
    "    ax.set(yticks=ind + width, yticklabels=['100%', '99%', '95%', \"90%\", \"85%\"], ylim=[2*width - 1, 5], xlim=[0, 1.2])\n",
    "    ax.legend()\n",
    "    ax.set_ylabel('Variance')\n",
    "    ax.set_xlabel('Percent')\n",
    "    plt.title(title)\n",
    "    plt.show()"
   ]
  },
  {
   "cell_type": "code",
   "execution_count": 52,
   "id": "54aad0c3",
   "metadata": {},
   "outputs": [
    {
     "data": {
      "image/png": "[encoded data removed]",
      "text/plain": [
       "<Figure size 432x288 with 1 Axes>"
      ]
     },
     "metadata": {
      "needs_background": "light"
     },
     "output_type": "display_data"
    },
    {
     "data": {
      "image/png": "[encoded data removed]",
      "text/plain": [
       "<Figure size 432x288 with 1 Axes>"
      ]
     },
     "metadata": {
      "needs_background": "light"
     },
     "output_type": "display_data"
    },
    {
     "data": {
      "image/png": "[encoded data removed]",
      "text/plain": [
       "<Figure size 432x288 with 1 Axes>"
      ]
     },
     "metadata": {
      "needs_background": "light"
     },
     "output_type": "display_data"
    }
   ],
   "source": [
    "barHCustom(\"Precision\", getPrecisionScore, results, class_labels=['COVID-19', 'Pneumonia'])\n",
    "barHCustom(\"Recall\", getRecallScore, results, class_labels=['COVID-19', 'Pneumonia'])\n",
    "barHCustom(\"F1 Score\", getF1Score, results, class_labels=['COVID-19', 'Pneumonia'])"
   ]
  },
  {
   "cell_type": "code",
   "execution_count": null,
   "id": "8ff4b4c9",
   "metadata": {},
   "outputs": [],
   "source": []
  }
 ],
 "metadata": {
  "kernelspec": {
   "display_name": "Python 3 (ipykernel)",
   "language": "python",
   "name": "python3"
  },
  "language_info": {
   "codemirror_mode": {
    "name": "ipython",
    "version": 3
   },
   "file_extension": ".py",
   "mimetype": "text/x-python",
   "name": "python",
   "nbconvert_exporter": "python",
   "pygments_lexer": "ipython3",
   "version": "3.8.5"
  }
 },
 "nbformat": 4,
 "nbformat_minor": 5
}
