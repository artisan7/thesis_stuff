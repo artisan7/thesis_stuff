{
 "cells": [
  {
   "cell_type": "markdown",
   "id": "a7abdf52",
   "metadata": {},
   "source": [
    "# Retrieving the Dataset"
   ]
  },
  {
   "cell_type": "code",
<<<<<<< HEAD
   "execution_count": 359,
=======
   "execution_count": 1,
>>>>>>> 546e938623c1554f4e858fc35e33a20176caf09c
   "id": "c6bf7467",
   "metadata": {},
   "outputs": [
    {
     "data": {
      "text/html": [
       "<div>\n",
       "<style scoped>\n",
       "    .dataframe tbody tr th:only-of-type {\n",
       "        vertical-align: middle;\n",
       "    }\n",
       "\n",
       "    .dataframe tbody tr th {\n",
       "        vertical-align: top;\n",
       "    }\n",
       "\n",
       "    .dataframe thead th {\n",
       "        text-align: right;\n",
       "    }\n",
       "</style>\n",
       "<table border=\"1\" class=\"dataframe\">\n",
       "  <thead>\n",
       "    <tr style=\"text-align: right;\">\n",
       "      <th></th>\n",
       "      <th>Unnamed: 0</th>\n",
       "      <th>mean0</th>\n",
       "      <th>variance0</th>\n",
       "      <th>skewness0</th>\n",
       "      <th>uniformity0</th>\n",
       "      <th>snr0</th>\n",
       "      <th>mean1</th>\n",
       "      <th>variance1</th>\n",
       "      <th>skewness1</th>\n",
       "      <th>uniformity1</th>\n",
       "      <th>...</th>\n",
       "      <th>variance14</th>\n",
       "      <th>skewness14</th>\n",
       "      <th>uniformity14</th>\n",
       "      <th>snr14</th>\n",
       "      <th>mean15</th>\n",
       "      <th>variance15</th>\n",
       "      <th>skewness15</th>\n",
       "      <th>uniformity15</th>\n",
       "      <th>snr15</th>\n",
       "      <th>label</th>\n",
       "    </tr>\n",
       "  </thead>\n",
       "  <tbody>\n",
       "    <tr>\n",
       "      <th>0</th>\n",
       "      <td>0</td>\n",
       "      <td>70.153934</td>\n",
       "      <td>1897.820090</td>\n",
       "      <td>0.155578</td>\n",
       "      <td>154</td>\n",
       "      <td>1.610366</td>\n",
       "      <td>67.820031</td>\n",
       "      <td>1431.488738</td>\n",
       "      <td>0.101886</td>\n",
       "      <td>149</td>\n",
       "      <td>...</td>\n",
       "      <td>0.0</td>\n",
       "      <td>0.0</td>\n",
       "      <td>0</td>\n",
       "      <td>0.0</td>\n",
       "      <td>0.000000</td>\n",
       "      <td>0.000000</td>\n",
       "      <td>0.000000</td>\n",
       "      <td>0</td>\n",
       "      <td>0.000000</td>\n",
       "      <td>COVID-19</td>\n",
       "    </tr>\n",
       "    <tr>\n",
       "      <th>1</th>\n",
       "      <td>1</td>\n",
       "      <td>67.943420</td>\n",
       "      <td>1640.924326</td>\n",
       "      <td>0.179606</td>\n",
       "      <td>158</td>\n",
       "      <td>1.677271</td>\n",
       "      <td>62.438356</td>\n",
       "      <td>1516.524282</td>\n",
       "      <td>0.382945</td>\n",
       "      <td>153</td>\n",
       "      <td>...</td>\n",
       "      <td>0.0</td>\n",
       "      <td>0.0</td>\n",
       "      <td>0</td>\n",
       "      <td>0.0</td>\n",
       "      <td>125.818182</td>\n",
       "      <td>59.954257</td>\n",
       "      <td>0.105233</td>\n",
       "      <td>38</td>\n",
       "      <td>16.249253</td>\n",
       "      <td>COVID-19</td>\n",
       "    </tr>\n",
       "    <tr>\n",
       "      <th>2</th>\n",
       "      <td>2</td>\n",
       "      <td>85.324244</td>\n",
       "      <td>1666.530997</td>\n",
       "      <td>-0.291033</td>\n",
       "      <td>153</td>\n",
       "      <td>2.090094</td>\n",
       "      <td>61.805752</td>\n",
       "      <td>1425.903805</td>\n",
       "      <td>0.326995</td>\n",
       "      <td>145</td>\n",
       "      <td>...</td>\n",
       "      <td>0.0</td>\n",
       "      <td>0.0</td>\n",
       "      <td>0</td>\n",
       "      <td>0.0</td>\n",
       "      <td>0.000000</td>\n",
       "      <td>0.000000</td>\n",
       "      <td>0.000000</td>\n",
       "      <td>0</td>\n",
       "      <td>0.000000</td>\n",
       "      <td>COVID-19</td>\n",
       "    </tr>\n",
       "    <tr>\n",
       "      <th>3</th>\n",
       "      <td>3</td>\n",
       "      <td>84.536424</td>\n",
       "      <td>1134.304302</td>\n",
       "      <td>-0.575772</td>\n",
       "      <td>129</td>\n",
       "      <td>2.510031</td>\n",
       "      <td>85.243692</td>\n",
       "      <td>957.789884</td>\n",
       "      <td>-0.289562</td>\n",
       "      <td>136</td>\n",
       "      <td>...</td>\n",
       "      <td>0.0</td>\n",
       "      <td>0.0</td>\n",
       "      <td>0</td>\n",
       "      <td>0.0</td>\n",
       "      <td>105.758879</td>\n",
       "      <td>247.749337</td>\n",
       "      <td>-0.316222</td>\n",
       "      <td>64</td>\n",
       "      <td>6.719092</td>\n",
       "      <td>COVID-19</td>\n",
       "    </tr>\n",
       "    <tr>\n",
       "      <th>4</th>\n",
       "      <td>4</td>\n",
       "      <td>97.321200</td>\n",
       "      <td>1344.070831</td>\n",
       "      <td>-0.521123</td>\n",
       "      <td>164</td>\n",
       "      <td>2.654583</td>\n",
       "      <td>102.034224</td>\n",
       "      <td>1417.579232</td>\n",
       "      <td>-0.313052</td>\n",
       "      <td>155</td>\n",
       "      <td>...</td>\n",
       "      <td>0.0</td>\n",
       "      <td>0.0</td>\n",
       "      <td>0</td>\n",
       "      <td>0.0</td>\n",
       "      <td>121.310059</td>\n",
       "      <td>518.784337</td>\n",
       "      <td>-0.373516</td>\n",
       "      <td>95</td>\n",
       "      <td>5.326027</td>\n",
       "      <td>COVID-19</td>\n",
       "    </tr>\n",
       "  </tbody>\n",
       "</table>\n",
       "<p>5 rows × 82 columns</p>\n",
       "</div>"
      ],
      "text/plain": [
       "   Unnamed: 0      mean0    variance0  skewness0  uniformity0      snr0  \\\n",
       "0           0  70.153934  1897.820090   0.155578          154  1.610366   \n",
       "1           1  67.943420  1640.924326   0.179606          158  1.677271   \n",
       "2           2  85.324244  1666.530997  -0.291033          153  2.090094   \n",
       "3           3  84.536424  1134.304302  -0.575772          129  2.510031   \n",
       "4           4  97.321200  1344.070831  -0.521123          164  2.654583   \n",
       "\n",
       "        mean1    variance1  skewness1  uniformity1  ...  variance14  \\\n",
       "0   67.820031  1431.488738   0.101886          149  ...         0.0   \n",
       "1   62.438356  1516.524282   0.382945          153  ...         0.0   \n",
       "2   61.805752  1425.903805   0.326995          145  ...         0.0   \n",
       "3   85.243692   957.789884  -0.289562          136  ...         0.0   \n",
       "4  102.034224  1417.579232  -0.313052          155  ...         0.0   \n",
       "\n",
       "   skewness14  uniformity14  snr14      mean15  variance15  skewness15  \\\n",
       "0         0.0             0    0.0    0.000000    0.000000    0.000000   \n",
       "1         0.0             0    0.0  125.818182   59.954257    0.105233   \n",
       "2         0.0             0    0.0    0.000000    0.000000    0.000000   \n",
       "3         0.0             0    0.0  105.758879  247.749337   -0.316222   \n",
       "4         0.0             0    0.0  121.310059  518.784337   -0.373516   \n",
       "\n",
       "   uniformity15      snr15     label  \n",
       "0             0   0.000000  COVID-19  \n",
       "1            38  16.249253  COVID-19  \n",
       "2             0   0.000000  COVID-19  \n",
       "3            64   6.719092  COVID-19  \n",
       "4            95   5.326027  COVID-19  \n",
       "\n",
       "[5 rows x 82 columns]"
      ]
     },
<<<<<<< HEAD
     "execution_count": 359,
=======
     "execution_count": 1,
>>>>>>> 546e938623c1554f4e858fc35e33a20176caf09c
     "metadata": {},
     "output_type": "execute_result"
    }
   ],
   "source": [
    "# claiming the dataset\n",
    "import pandas as pd\n",
    "\n",
    "cxr_dataset = pd.read_csv(\"../features.csv\")\n",
    "cxr_dataset.head()"
   ]
  },
  {
   "cell_type": "code",
<<<<<<< HEAD
   "execution_count": 360,
=======
   "execution_count": 2,
>>>>>>> 546e938623c1554f4e858fc35e33a20176caf09c
   "id": "7193938a",
   "metadata": {},
   "outputs": [
    {
     "name": "stderr",
     "output_type": "stream",
     "text": [
      "/home/jonrek/devel/thesis_stuff/env/lib/python3.8/site-packages/pandas/core/frame.py:4901: SettingWithCopyWarning: \n",
      "A value is trying to be set on a copy of a slice from a DataFrame\n",
      "\n",
      "See the caveats in the documentation: https://pandas.pydata.org/pandas-docs/stable/user_guide/indexing.html#returning-a-view-versus-a-copy\n",
      "  return super().drop(\n"
     ]
    },
    {
     "data": {
      "text/plain": [
       "(200, 82)"
      ]
     },
<<<<<<< HEAD
     "execution_count": 360,
=======
     "execution_count": 2,
>>>>>>> 546e938623c1554f4e858fc35e33a20176caf09c
     "metadata": {},
     "output_type": "execute_result"
    }
   ],
   "source": [
    "cxr_dataset['label'].replace('COVID-19', 'Pneumonia', inplace=True)\n",
    "\n",
    "drop_rows = cxr_dataset.loc[cxr_dataset['label'] == 'Pneumonia']\n",
    "\n",
    "for i in range(1, drop_rows.shape[0], 2):\n",
    "    drop_rows.drop(i, inplace=True)\n",
    "\n",
    "cxr_dataset.drop(drop_rows.index, inplace=True)\n",
    "cxr_dataset.shape"
   ]
  },
  {
   "cell_type": "markdown",
   "id": "4b38b63f",
   "metadata": {},
   "source": [
    "# Splitting the dataset to train and test"
   ]
  },
  {
   "cell_type": "code",
<<<<<<< HEAD
   "execution_count": 361,
=======
   "execution_count": 3,
>>>>>>> 546e938623c1554f4e858fc35e33a20176caf09c
   "id": "d8710f91",
   "metadata": {
    "scrolled": true
   },
   "outputs": [
    {
     "data": {
      "text/html": [
       "<div>\n",
       "<style scoped>\n",
       "    .dataframe tbody tr th:only-of-type {\n",
       "        vertical-align: middle;\n",
       "    }\n",
       "\n",
       "    .dataframe tbody tr th {\n",
       "        vertical-align: top;\n",
       "    }\n",
       "\n",
       "    .dataframe thead th {\n",
       "        text-align: right;\n",
       "    }\n",
       "</style>\n",
       "<table border=\"1\" class=\"dataframe\">\n",
       "  <thead>\n",
       "    <tr style=\"text-align: right;\">\n",
       "      <th></th>\n",
       "      <th>0</th>\n",
       "      <th>1</th>\n",
       "      <th>2</th>\n",
       "      <th>3</th>\n",
       "      <th>4</th>\n",
       "      <th>5</th>\n",
       "      <th>6</th>\n",
       "      <th>7</th>\n",
       "      <th>8</th>\n",
       "      <th>9</th>\n",
       "      <th>...</th>\n",
       "      <th>70</th>\n",
       "      <th>71</th>\n",
       "      <th>72</th>\n",
       "      <th>73</th>\n",
       "      <th>74</th>\n",
       "      <th>75</th>\n",
       "      <th>76</th>\n",
       "      <th>77</th>\n",
       "      <th>78</th>\n",
       "      <th>79</th>\n",
       "    </tr>\n",
       "  </thead>\n",
       "  <tbody>\n",
       "    <tr>\n",
       "      <th>0</th>\n",
       "      <td>67.943420</td>\n",
       "      <td>1640.924326</td>\n",
       "      <td>0.179606</td>\n",
       "      <td>158.0</td>\n",
       "      <td>1.677271</td>\n",
       "      <td>62.438356</td>\n",
       "      <td>1516.524282</td>\n",
       "      <td>0.382945</td>\n",
       "      <td>153.0</td>\n",
       "      <td>1.603344</td>\n",
       "      <td>...</td>\n",
       "      <td>0.000000</td>\n",
       "      <td>0.000000</td>\n",
       "      <td>0.000000</td>\n",
       "      <td>0.0</td>\n",
       "      <td>0.000000</td>\n",
       "      <td>125.818182</td>\n",
       "      <td>59.954257</td>\n",
       "      <td>0.105233</td>\n",
       "      <td>38.0</td>\n",
       "      <td>16.249253</td>\n",
       "    </tr>\n",
       "    <tr>\n",
       "      <th>1</th>\n",
       "      <td>84.536424</td>\n",
       "      <td>1134.304302</td>\n",
       "      <td>-0.575772</td>\n",
       "      <td>129.0</td>\n",
       "      <td>2.510031</td>\n",
       "      <td>85.243692</td>\n",
       "      <td>957.789884</td>\n",
       "      <td>-0.289562</td>\n",
       "      <td>136.0</td>\n",
       "      <td>2.754401</td>\n",
       "      <td>...</td>\n",
       "      <td>0.000000</td>\n",
       "      <td>0.000000</td>\n",
       "      <td>0.000000</td>\n",
       "      <td>0.0</td>\n",
       "      <td>0.000000</td>\n",
       "      <td>105.758879</td>\n",
       "      <td>247.749337</td>\n",
       "      <td>-0.316222</td>\n",
       "      <td>64.0</td>\n",
       "      <td>6.719092</td>\n",
       "    </tr>\n",
       "    <tr>\n",
       "      <th>2</th>\n",
       "      <td>89.088358</td>\n",
       "      <td>736.820920</td>\n",
       "      <td>-0.738749</td>\n",
       "      <td>134.0</td>\n",
       "      <td>3.282011</td>\n",
       "      <td>108.735835</td>\n",
       "      <td>565.655750</td>\n",
       "      <td>-0.588994</td>\n",
       "      <td>99.0</td>\n",
       "      <td>4.571899</td>\n",
       "      <td>...</td>\n",
       "      <td>0.000000</td>\n",
       "      <td>0.000000</td>\n",
       "      <td>0.000000</td>\n",
       "      <td>0.0</td>\n",
       "      <td>0.000000</td>\n",
       "      <td>123.765125</td>\n",
       "      <td>133.959068</td>\n",
       "      <td>-1.211050</td>\n",
       "      <td>51.0</td>\n",
       "      <td>10.693312</td>\n",
       "    </tr>\n",
       "    <tr>\n",
       "      <th>3</th>\n",
       "      <td>90.004733</td>\n",
       "      <td>1694.192318</td>\n",
       "      <td>-0.162377</td>\n",
       "      <td>182.0</td>\n",
       "      <td>2.186674</td>\n",
       "      <td>53.167241</td>\n",
       "      <td>1369.184033</td>\n",
       "      <td>0.589928</td>\n",
       "      <td>154.0</td>\n",
       "      <td>1.436856</td>\n",
       "      <td>...</td>\n",
       "      <td>0.000000</td>\n",
       "      <td>0.000000</td>\n",
       "      <td>0.000000</td>\n",
       "      <td>0.0</td>\n",
       "      <td>0.000000</td>\n",
       "      <td>0.000000</td>\n",
       "      <td>0.000000</td>\n",
       "      <td>0.000000</td>\n",
       "      <td>0.0</td>\n",
       "      <td>0.000000</td>\n",
       "    </tr>\n",
       "    <tr>\n",
       "      <th>4</th>\n",
       "      <td>86.726020</td>\n",
       "      <td>1726.125445</td>\n",
       "      <td>-0.412367</td>\n",
       "      <td>160.0</td>\n",
       "      <td>2.087436</td>\n",
       "      <td>57.016667</td>\n",
       "      <td>1506.238264</td>\n",
       "      <td>0.380873</td>\n",
       "      <td>147.0</td>\n",
       "      <td>1.469112</td>\n",
       "      <td>...</td>\n",
       "      <td>0.000000</td>\n",
       "      <td>0.000000</td>\n",
       "      <td>0.000000</td>\n",
       "      <td>0.0</td>\n",
       "      <td>0.000000</td>\n",
       "      <td>0.000000</td>\n",
       "      <td>0.000000</td>\n",
       "      <td>0.000000</td>\n",
       "      <td>0.0</td>\n",
       "      <td>0.000000</td>\n",
       "    </tr>\n",
       "    <tr>\n",
       "      <th>...</th>\n",
       "      <td>...</td>\n",
       "      <td>...</td>\n",
       "      <td>...</td>\n",
       "      <td>...</td>\n",
       "      <td>...</td>\n",
       "      <td>...</td>\n",
       "      <td>...</td>\n",
       "      <td>...</td>\n",
       "      <td>...</td>\n",
       "      <td>...</td>\n",
       "      <td>...</td>\n",
       "      <td>...</td>\n",
       "      <td>...</td>\n",
       "      <td>...</td>\n",
       "      <td>...</td>\n",
       "      <td>...</td>\n",
       "      <td>...</td>\n",
       "      <td>...</td>\n",
       "      <td>...</td>\n",
       "      <td>...</td>\n",
       "      <td>...</td>\n",
       "    </tr>\n",
       "    <tr>\n",
       "      <th>195</th>\n",
       "      <td>67.485362</td>\n",
       "      <td>590.801404</td>\n",
       "      <td>0.125502</td>\n",
       "      <td>101.0</td>\n",
       "      <td>2.776443</td>\n",
       "      <td>58.764064</td>\n",
       "      <td>1009.093014</td>\n",
       "      <td>-0.076914</td>\n",
       "      <td>125.0</td>\n",
       "      <td>1.849891</td>\n",
       "      <td>...</td>\n",
       "      <td>108.375000</td>\n",
       "      <td>24.734375</td>\n",
       "      <td>0.136133</td>\n",
       "      <td>7.0</td>\n",
       "      <td>21.791074</td>\n",
       "      <td>46.903541</td>\n",
       "      <td>1214.512063</td>\n",
       "      <td>0.503447</td>\n",
       "      <td>120.0</td>\n",
       "      <td>1.345875</td>\n",
       "    </tr>\n",
       "    <tr>\n",
       "      <th>196</th>\n",
       "      <td>57.642643</td>\n",
       "      <td>1138.936360</td>\n",
       "      <td>0.439436</td>\n",
       "      <td>135.0</td>\n",
       "      <td>1.708025</td>\n",
       "      <td>55.429969</td>\n",
       "      <td>1205.076900</td>\n",
       "      <td>0.298250</td>\n",
       "      <td>133.0</td>\n",
       "      <td>1.596751</td>\n",
       "      <td>...</td>\n",
       "      <td>0.000000</td>\n",
       "      <td>0.000000</td>\n",
       "      <td>0.000000</td>\n",
       "      <td>0.0</td>\n",
       "      <td>0.000000</td>\n",
       "      <td>109.913580</td>\n",
       "      <td>392.893766</td>\n",
       "      <td>-2.253583</td>\n",
       "      <td>36.0</td>\n",
       "      <td>5.545156</td>\n",
       "    </tr>\n",
       "    <tr>\n",
       "      <th>197</th>\n",
       "      <td>52.461857</td>\n",
       "      <td>967.863802</td>\n",
       "      <td>0.288745</td>\n",
       "      <td>120.0</td>\n",
       "      <td>1.686307</td>\n",
       "      <td>58.074462</td>\n",
       "      <td>876.051465</td>\n",
       "      <td>0.146898</td>\n",
       "      <td>131.0</td>\n",
       "      <td>1.962097</td>\n",
       "      <td>...</td>\n",
       "      <td>113.789474</td>\n",
       "      <td>8.060942</td>\n",
       "      <td>-0.710812</td>\n",
       "      <td>7.0</td>\n",
       "      <td>40.078291</td>\n",
       "      <td>96.602423</td>\n",
       "      <td>387.369465</td>\n",
       "      <td>0.734007</td>\n",
       "      <td>104.0</td>\n",
       "      <td>4.908235</td>\n",
       "    </tr>\n",
       "    <tr>\n",
       "      <th>198</th>\n",
       "      <td>85.349291</td>\n",
       "      <td>861.184734</td>\n",
       "      <td>-0.512971</td>\n",
       "      <td>114.0</td>\n",
       "      <td>2.908384</td>\n",
       "      <td>57.942963</td>\n",
       "      <td>1208.748901</td>\n",
       "      <td>0.157751</td>\n",
       "      <td>123.0</td>\n",
       "      <td>1.666605</td>\n",
       "      <td>...</td>\n",
       "      <td>0.000000</td>\n",
       "      <td>0.000000</td>\n",
       "      <td>0.000000</td>\n",
       "      <td>0.0</td>\n",
       "      <td>0.000000</td>\n",
       "      <td>79.568421</td>\n",
       "      <td>959.213740</td>\n",
       "      <td>-0.612756</td>\n",
       "      <td>85.0</td>\n",
       "      <td>2.569112</td>\n",
       "    </tr>\n",
       "    <tr>\n",
       "      <th>199</th>\n",
       "      <td>54.742072</td>\n",
       "      <td>804.571951</td>\n",
       "      <td>0.265591</td>\n",
       "      <td>110.0</td>\n",
       "      <td>1.929918</td>\n",
       "      <td>46.046397</td>\n",
       "      <td>1082.516952</td>\n",
       "      <td>0.390843</td>\n",
       "      <td>125.0</td>\n",
       "      <td>1.399517</td>\n",
       "      <td>...</td>\n",
       "      <td>92.851852</td>\n",
       "      <td>101.459534</td>\n",
       "      <td>0.206195</td>\n",
       "      <td>17.0</td>\n",
       "      <td>9.218158</td>\n",
       "      <td>49.546763</td>\n",
       "      <td>1256.728389</td>\n",
       "      <td>0.340671</td>\n",
       "      <td>115.0</td>\n",
       "      <td>1.397638</td>\n",
       "    </tr>\n",
       "  </tbody>\n",
       "</table>\n",
       "<p>200 rows × 80 columns</p>\n",
       "</div>"
      ],
      "text/plain": [
       "            0            1         2      3         4           5   \\\n",
       "0    67.943420  1640.924326  0.179606  158.0  1.677271   62.438356   \n",
       "1    84.536424  1134.304302 -0.575772  129.0  2.510031   85.243692   \n",
       "2    89.088358   736.820920 -0.738749  134.0  3.282011  108.735835   \n",
       "3    90.004733  1694.192318 -0.162377  182.0  2.186674   53.167241   \n",
       "4    86.726020  1726.125445 -0.412367  160.0  2.087436   57.016667   \n",
       "..         ...          ...       ...    ...       ...         ...   \n",
       "195  67.485362   590.801404  0.125502  101.0  2.776443   58.764064   \n",
       "196  57.642643  1138.936360  0.439436  135.0  1.708025   55.429969   \n",
       "197  52.461857   967.863802  0.288745  120.0  1.686307   58.074462   \n",
       "198  85.349291   861.184734 -0.512971  114.0  2.908384   57.942963   \n",
       "199  54.742072   804.571951  0.265591  110.0  1.929918   46.046397   \n",
       "\n",
       "              6         7      8         9   ...          70          71  \\\n",
       "0    1516.524282  0.382945  153.0  1.603344  ...    0.000000    0.000000   \n",
       "1     957.789884 -0.289562  136.0  2.754401  ...    0.000000    0.000000   \n",
       "2     565.655750 -0.588994   99.0  4.571899  ...    0.000000    0.000000   \n",
       "3    1369.184033  0.589928  154.0  1.436856  ...    0.000000    0.000000   \n",
       "4    1506.238264  0.380873  147.0  1.469112  ...    0.000000    0.000000   \n",
       "..           ...       ...    ...       ...  ...         ...         ...   \n",
       "195  1009.093014 -0.076914  125.0  1.849891  ...  108.375000   24.734375   \n",
       "196  1205.076900  0.298250  133.0  1.596751  ...    0.000000    0.000000   \n",
       "197   876.051465  0.146898  131.0  1.962097  ...  113.789474    8.060942   \n",
       "198  1208.748901  0.157751  123.0  1.666605  ...    0.000000    0.000000   \n",
       "199  1082.516952  0.390843  125.0  1.399517  ...   92.851852  101.459534   \n",
       "\n",
       "           72    73         74          75           76        77     78  \\\n",
       "0    0.000000   0.0   0.000000  125.818182    59.954257  0.105233   38.0   \n",
       "1    0.000000   0.0   0.000000  105.758879   247.749337 -0.316222   64.0   \n",
       "2    0.000000   0.0   0.000000  123.765125   133.959068 -1.211050   51.0   \n",
       "3    0.000000   0.0   0.000000    0.000000     0.000000  0.000000    0.0   \n",
       "4    0.000000   0.0   0.000000    0.000000     0.000000  0.000000    0.0   \n",
       "..        ...   ...        ...         ...          ...       ...    ...   \n",
       "195  0.136133   7.0  21.791074   46.903541  1214.512063  0.503447  120.0   \n",
       "196  0.000000   0.0   0.000000  109.913580   392.893766 -2.253583   36.0   \n",
       "197 -0.710812   7.0  40.078291   96.602423   387.369465  0.734007  104.0   \n",
       "198  0.000000   0.0   0.000000   79.568421   959.213740 -0.612756   85.0   \n",
       "199  0.206195  17.0   9.218158   49.546763  1256.728389  0.340671  115.0   \n",
       "\n",
       "            79  \n",
       "0    16.249253  \n",
       "1     6.719092  \n",
       "2    10.693312  \n",
       "3     0.000000  \n",
       "4     0.000000  \n",
       "..         ...  \n",
       "195   1.345875  \n",
       "196   5.545156  \n",
       "197   4.908235  \n",
       "198   2.569112  \n",
       "199   1.397638  \n",
       "\n",
       "[200 rows x 80 columns]"
      ]
     },
     "metadata": {},
     "output_type": "display_data"
    }
   ],
   "source": [
    "# Getting the features needed\n",
    "\n",
    "#get the feature columns\n",
    "col_features = list(cxr_dataset.columns)\n",
    "#get the label column\n",
    "label = list(cxr_dataset.columns).pop()\n",
    "#deleting label column from col\n",
    "del col_features[0]\n",
    "del col_features[len(col_features) - 1]\n",
    "\n",
    "features = cxr_dataset.loc[:, col_features].values\n",
    "labels = cxr_dataset.loc[:, label].values\n",
    "\n",
    "display(pd.DataFrame(features))"
   ]
  },
  {
   "cell_type": "code",
<<<<<<< HEAD
   "execution_count": 362,
=======
   "execution_count": 4,
>>>>>>> 546e938623c1554f4e858fc35e33a20176caf09c
   "id": "780bbd55",
   "metadata": {},
   "outputs": [],
   "source": [
    "from sklearn.model_selection import train_test_split\n",
    "\n",
    "# Separating test and train dataset\n",
    "train_features, test_features, train_lbl, test_lbl = train_test_split( features, labels, test_size=0.2, random_state=0)"
   ]
  },
  {
   "cell_type": "code",
<<<<<<< HEAD
   "execution_count": 363,
=======
   "execution_count": 5,
>>>>>>> 546e938623c1554f4e858fc35e33a20176caf09c
   "id": "9a48bb68",
   "metadata": {},
   "outputs": [],
   "source": [
    "#Standardizing the Dataset\n",
    "from sklearn.preprocessing import StandardScaler\n",
    "\n",
    "scaler = StandardScaler()\n",
    "\n",
    "# Fitting of training dataset only\n",
    "scaler.fit(train_features)\n",
    "\n",
    "# Apply transform to both the training set and the test set.\n",
    "train_features = scaler.transform(train_features)\n",
    "test_features = scaler.transform(test_features)"
   ]
  },
  {
   "cell_type": "markdown",
   "id": "d4bc8e8a",
   "metadata": {},
   "source": [
    "# Applying Principal Component Analysis"
   ]
  },
  {
   "cell_type": "code",
<<<<<<< HEAD
   "execution_count": 364,
=======
   "execution_count": 6,
>>>>>>> 546e938623c1554f4e858fc35e33a20176caf09c
   "id": "97c782ad",
   "metadata": {},
   "outputs": [],
   "source": [
    "# Feeding it to Principal Component Analysis\n",
    "from sklearn.decomposition import PCA\n",
    "\n",
    "# 5 different variance\n",
    "variances = [\"100%\", \"99%\", \"95%\", \"90%\", \"85%\"]\n",
    "pca = [PCA(), PCA(.99), PCA(.95), PCA(.90), PCA(.85)]\n",
    "# results of each PCA variance\n",
    "pca_fit = []\n",
    "\n",
    "for p in pca:\n",
    "    pca_content = {\"fit\": None, \"transforms\": {\"train\": None, \"test\": None}}\n",
    "    pca_content[\"fit\"] = p.fit(train_features)\n",
    "    pca_content[\"transforms\"][\"train\"] = p.transform(train_features)\n",
    "    pca_content[\"transforms\"][\"test\"] = p.transform(test_features)\n",
    "    pca_fit.append(pca_content)"
   ]
  },
  {
   "cell_type": "code",
<<<<<<< HEAD
   "execution_count": 365,
=======
   "execution_count": 7,
>>>>>>> 546e938623c1554f4e858fc35e33a20176caf09c
   "id": "47335328",
   "metadata": {},
   "outputs": [
    {
     "name": "stdout",
     "output_type": "stream",
     "text": [
      "From 14 features\n",
      "Principal Components with 100% variance: 80\n",
      "Principal Components with 99% variance: 55\n",
      "Principal Components with 95% variance: 36\n",
      "Principal Components with 90% variance: 27\n",
      "Principal Components with 85% variance: 21\n"
     ]
    }
   ],
   "source": [
    "# checking the number of Principal Component\n",
    "print(\"From 14 features\")\n",
    "for i in range(len(variances)):\n",
    "    print(f\"Principal Components with {variances[i]} variance:\", pca_fit[i][\"fit\"].n_components_)"
   ]
  },
  {
   "cell_type": "markdown",
   "id": "035c37aa",
   "metadata": {},
   "source": [
    "# Applying Linear Discriminant Analysis"
   ]
  },
  {
   "cell_type": "markdown",
   "id": "604e2987",
   "metadata": {},
   "source": [
    "### Libraries Needed"
   ]
  },
  {
   "cell_type": "code",
<<<<<<< HEAD
   "execution_count": 366,
=======
   "execution_count": 8,
>>>>>>> 546e938623c1554f4e858fc35e33a20176caf09c
   "id": "52abb650",
   "metadata": {},
   "outputs": [],
   "source": [
    "from sklearn.discriminant_analysis import LinearDiscriminantAnalysis\n",
    "from sklearn.model_selection import StratifiedKFold\n",
    "from sklearn.datasets import make_classification\n",
    "from sklearn.model_selection import cross_val_score\n",
    "\n",
    "import numpy as np\n",
    "\n",
    "lda = LinearDiscriminantAnalysis()"
   ]
  },
  {
   "cell_type": "markdown",
   "id": "febc49f3",
   "metadata": {},
   "source": [
    "### With Principal Component Analysis"
   ]
  },
  {
   "cell_type": "code",
<<<<<<< HEAD
   "execution_count": 367,
=======
   "execution_count": 9,
>>>>>>> 546e938623c1554f4e858fc35e33a20176caf09c
   "id": "771cf846",
   "metadata": {
    "scrolled": true
   },
   "outputs": [
    {
     "name": "stdout",
     "output_type": "stream",
     "text": [
      "Variance of 100%:\n",
      "Mean Accuracy: 0.7500 (0.1186)\n",
      "\n",
      "Variance of 99%:\n",
      "Mean Accuracy: 0.8250 (0.1146)\n",
      "\n",
      "Variance of 95%:\n",
      "Mean Accuracy: 0.8125 (0.1046)\n",
      "\n",
      "Variance of 90%:\n",
      "Mean Accuracy: 0.8625 (0.0919)\n",
      "\n",
      "Variance of 85%:\n",
      "Mean Accuracy: 0.8875 (0.0673)\n",
      "\n"
     ]
    }
   ],
   "source": [
    "# Evaluating of Model\n",
    "for i in range(len(pca_fit)):\n",
    "    # define model evaluation method\n",
    "    cv = StratifiedKFold(n_splits=10, random_state=1, shuffle=True)\n",
    "    # evaluate model\n",
    "    scores = cross_val_score(lda, pca_fit[i][\"transforms\"][\"train\"], np.ravel(train_lbl), scoring='accuracy', cv=cv)\n",
    "    # summarize result\n",
    "    print('Variance of %s:\\nMean Accuracy: %.4f (%.4f)\\n' % (variances[i], np.mean(scores), np.std(scores)))"
   ]
  },
  {
   "cell_type": "code",
<<<<<<< HEAD
   "execution_count": 368,
=======
   "execution_count": 10,
>>>>>>> 546e938623c1554f4e858fc35e33a20176caf09c
   "id": "4deed3cf",
   "metadata": {},
   "outputs": [],
   "source": [
    "#Train the model\n",
    "results = [] # where all the results will place\n",
    "ldas = []\n",
    "\n",
    "for i in range(len(pca_fit)):\n",
    "    lda_train = lda.fit(pca_fit[i][\"transforms\"][\"train\"], np.ravel(train_lbl))\n",
    "    ldas.append(lda_train)\n",
    "    predictions = lda_train.predict(pca_fit[i][\"transforms\"][\"test\"])\n",
    "    results.append(predictions)"
   ]
  },
  {
   "cell_type": "code",
<<<<<<< HEAD
   "execution_count": 369,
=======
   "execution_count": 11,
>>>>>>> 546e938623c1554f4e858fc35e33a20176caf09c
   "id": "b69b4ca5",
   "metadata": {},
   "outputs": [
    {
     "name": "stdout",
     "output_type": "stream",
     "text": [
      "Variance of 100%\n",
      "Accuracy Score - 0.85\n",
      "Confusion Matrix\n",
      "[[22  0]\n",
      " [ 6 12]]\n",
      "Classification Report\n",
      "              precision    recall  f1-score   support\n",
      "\n",
      "  No Finding       0.79      1.00      0.88        22\n",
      "   Pneumonia       1.00      0.67      0.80        18\n",
      "\n",
      "    accuracy                           0.85        40\n",
      "   macro avg       0.89      0.83      0.84        40\n",
      "weighted avg       0.88      0.85      0.84        40\n",
      "\n",
      "\n",
      "Variance of 99%\n",
      "Accuracy Score - 0.825\n",
      "Confusion Matrix\n",
      "[[20  2]\n",
      " [ 5 13]]\n",
      "Classification Report\n",
      "              precision    recall  f1-score   support\n",
      "\n",
      "  No Finding       0.80      0.91      0.85        22\n",
      "   Pneumonia       0.87      0.72      0.79        18\n",
      "\n",
      "    accuracy                           0.82        40\n",
      "   macro avg       0.83      0.82      0.82        40\n",
      "weighted avg       0.83      0.82      0.82        40\n",
      "\n",
      "\n",
      "Variance of 95%\n",
      "Accuracy Score - 0.875\n",
      "Confusion Matrix\n",
      "[[22  0]\n",
      " [ 5 13]]\n",
      "Classification Report\n",
      "              precision    recall  f1-score   support\n",
      "\n",
      "  No Finding       0.81      1.00      0.90        22\n",
      "   Pneumonia       1.00      0.72      0.84        18\n",
      "\n",
      "    accuracy                           0.88        40\n",
      "   macro avg       0.91      0.86      0.87        40\n",
      "weighted avg       0.90      0.88      0.87        40\n",
      "\n",
      "\n",
      "Variance of 90%\n",
      "Accuracy Score - 0.85\n",
      "Confusion Matrix\n",
      "[[21  1]\n",
      " [ 5 13]]\n",
      "Classification Report\n",
      "              precision    recall  f1-score   support\n",
      "\n",
      "  No Finding       0.81      0.95      0.88        22\n",
      "   Pneumonia       0.93      0.72      0.81        18\n",
      "\n",
      "    accuracy                           0.85        40\n",
      "   macro avg       0.87      0.84      0.84        40\n",
      "weighted avg       0.86      0.85      0.85        40\n",
      "\n",
      "\n",
      "Variance of 85%\n",
      "Accuracy Score - 0.85\n",
      "Confusion Matrix\n",
      "[[21  1]\n",
      " [ 5 13]]\n",
      "Classification Report\n",
      "              precision    recall  f1-score   support\n",
      "\n",
      "  No Finding       0.81      0.95      0.88        22\n",
      "   Pneumonia       0.93      0.72      0.81        18\n",
      "\n",
      "    accuracy                           0.85        40\n",
      "   macro avg       0.87      0.84      0.84        40\n",
      "weighted avg       0.86      0.85      0.85        40\n",
      "\n",
      "\n"
     ]
    }
   ],
   "source": [
    "from sklearn.metrics import accuracy_score\n",
    "from sklearn.metrics import classification_report\n",
    "from sklearn.metrics import confusion_matrix\n",
    "\n",
    "for i in range(len(pca_fit)):\n",
    "    print(\"Variance of\", variances[i])\n",
    "    print(\"Accuracy Score -\", accuracy_score(test_lbl, results[i]))\n",
    "    \n",
    "    print(\"Confusion Matrix\")\n",
    "    print(confusion_matrix(test_lbl, results[i]))\n",
    "    \n",
    "    print(\"Classification Report\")\n",
    "    print(classification_report(test_lbl, results[i]))\n",
    "    \n",
    "    print()"
   ]
  },
  {
   "cell_type": "markdown",
   "id": "222ea06a",
   "metadata": {},
   "source": [
    "### Without Principal Component Analysis"
   ]
  },
  {
   "cell_type": "code",
<<<<<<< HEAD
   "execution_count": 370,
=======
   "execution_count": 12,
>>>>>>> 546e938623c1554f4e858fc35e33a20176caf09c
   "id": "2081dfc8",
   "metadata": {},
   "outputs": [
    {
     "name": "stdout",
     "output_type": "stream",
     "text": [
      "Linear Discriminant Analysis Cross Validation Score:\n",
      "Mean Accuracy - 0.7500 (0.1186)\n",
      "\n"
     ]
    }
   ],
   "source": [
    "# Performing towards the untransformed dataset\n",
    "\n",
    "# define model evaluation method\n",
    "cv = StratifiedKFold(n_splits=10, random_state=1, shuffle=True)\n",
    "\n",
    "# evaluate model\n",
    "scores = cross_val_score(lda, train_features, np.ravel(train_lbl), scoring='accuracy', cv=cv)\n",
    "\n",
    "# summarize result\n",
    "print('Linear Discriminant Analysis Cross Validation Score:\\nMean Accuracy - %.4f (%.4f)\\n' % (np.mean(scores), np.std(scores)))"
   ]
  },
  {
   "cell_type": "code",
<<<<<<< HEAD
   "execution_count": 371,
=======
   "execution_count": 13,
>>>>>>> 546e938623c1554f4e858fc35e33a20176caf09c
   "id": "825e5b4a",
   "metadata": {},
   "outputs": [],
   "source": [
    "nopca_lda = lda.fit(train_features, np.ravel(train_lbl))\n",
    "predictions = nopca_lda.predict(test_features)"
   ]
  },
  {
   "cell_type": "code",
<<<<<<< HEAD
   "execution_count": 372,
=======
   "execution_count": 14,
>>>>>>> 546e938623c1554f4e858fc35e33a20176caf09c
   "id": "bd4a4ec0",
   "metadata": {},
   "outputs": [
    {
     "name": "stdout",
     "output_type": "stream",
     "text": [
      "Linear Disriminant Analysis Performance\n",
      "Accuracy Score - 0.85\n",
      "Confusion Matrix\n",
      "[[22  0]\n",
      " [ 6 12]]\n",
      "Classification Report\n",
      "              precision    recall  f1-score   support\n",
      "\n",
      "  No Finding       0.79      1.00      0.88        22\n",
      "   Pneumonia       1.00      0.67      0.80        18\n",
      "\n",
      "    accuracy                           0.85        40\n",
      "   macro avg       0.89      0.83      0.84        40\n",
      "weighted avg       0.88      0.85      0.84        40\n",
      "\n"
     ]
    }
   ],
   "source": [
    "print(\"Linear Disriminant Analysis Performance\")\n",
    "print(\"Accuracy Score -\", accuracy_score(test_lbl, predictions))\n",
    "\n",
    "print(\"Confusion Matrix\")\n",
    "print(confusion_matrix(test_lbl, predictions))\n",
    "\n",
    "print(\"Classification Report\")\n",
    "print(classification_report(test_lbl, predictions))"
   ]
  },
  {
   "cell_type": "code",
<<<<<<< HEAD
   "execution_count": 373,
=======
   "execution_count": 15,
>>>>>>> 546e938623c1554f4e858fc35e33a20176caf09c
   "id": "678da2d9",
   "metadata": {},
   "outputs": [],
   "source": [
    "# saving model as a pickle\n",
    "#import pickle\n",
    "\n",
    "#pickle.dump(ldas[3],open(\"lda1-nofinding-pneu.sav\", \"wb\"))"
   ]
  },
  {
   "cell_type": "code",
<<<<<<< HEAD
   "execution_count": 374,
=======
   "execution_count": 16,
>>>>>>> 546e938623c1554f4e858fc35e33a20176caf09c
   "id": "81180ae9",
   "metadata": {},
   "outputs": [],
   "source": [
    "#accuracy_score(test_lbl, results[1])\n",
    "#ldas[3].predict([[80.69947407963937, 1269.4288426986145, -0.67499210392419, 144, 2.2649912237562297, 59.89109766637856, 1560.3788057959928, 0.4601313161779094, 142, 1.5161677386578594, 65.7536231884058, 1726.2668346985924, -0.08865097966591508, 124, 1.5825801898436467, 48.15653495440729, 1324.0773205162554, 0.4718451803368274, 134, 1.3234226306095302, 102.12631578947368, 321.77351800554015, 0.022913679792898232, 69, 5.693279637440712, 86.16784702549575, 470.625510095579, 0.186041642695024, 95, 3.9719841769645834, 0, 0, 0, 0, 0, 113.52201257861635, 119.24322613820655, -0.30065746045526565, 44, 10.395927047576272, 98.92756756756756, 338.21421300219146, 0.17355633855272548, 76, 5.379245975588224, 95.11693548387096, 258.13148738293444, 0.46243019975144345, 68, 5.920213346079804, 0, 0, 0, 0, 0, 79.04697986577182, 1382.5011485969098, -0.2991781648197267, 130, 2.1259474789571735, 0, 0, 0, 0, 0, 0, 0, 0, 0, 0, 0, 0, 0, 0, 0, 52.550424128180964, 2109.4293612715765, 0.32448564427869414, 133, 1.1441783666827834]])"
   ]
  },
  {
   "cell_type": "code",
   "execution_count": 375,
   "id": "8c1e56a3",
   "metadata": {},
   "outputs": [
    {
     "data": {
      "image/png": "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\n",
      "text/plain": [
<<<<<<< HEAD
       "<Figure size 432x288 with 2 Axes>"
      ]
     },
     "metadata": {
      "needs_background": "light"
     },
     "output_type": "display_data"
    },
    {
     "data": {
      "image/png": "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\n",
      "text/plain": [
       "<Figure size 432x288 with 2 Axes>"
      ]
     },
     "metadata": {
      "needs_background": "light"
     },
     "output_type": "display_data"
    },
    {
     "data": {
      "image/png": "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\n",
      "text/plain": [
       "<Figure size 432x288 with 2 Axes>"
      ]
     },
     "metadata": {
      "needs_background": "light"
     },
     "output_type": "display_data"
    },
    {
     "data": {
      "image/png": "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\n",
      "text/plain": [
       "<Figure size 432x288 with 2 Axes>"
      ]
     },
     "metadata": {
      "needs_background": "light"
     },
     "output_type": "display_data"
    },
    {
     "data": {
      "image/png": "iVBORw0KGgoAAAANSUhEUgAAAWgAAAEKCAYAAAA/2c+EAAAAOXRFWHRTb2Z0d2FyZQBNYXRwbG90bGliIHZlcnNpb24zLjMuMiwgaHR0cHM6Ly9tYXRwbG90bGliLm9yZy8vihELAAAACXBIWXMAAAsTAAALEwEAmpwYAAAeiElEQVR4nO3deZwdVZn/8c83CQgkYYkJEASNLDICsoRFIIIg6oAiKMMgDCAgElyAsCggKqsoA8QBRX8a2YJGBGTXQXYIDCCEEEggKA4iEwhZIJCENd39/P6oanITuvvWvV11b93u75tXvbqWW+ec0J0np58655QiAjMzK58BzW6AmZl1zQHazKykHKDNzErKAdrMrKQcoM3MSsoB2syspBygzcxyJGk9SXdLekrSk5LGpeeHSbpd0jPp1zWqluVx0GZm+ZE0EhgZEVMlDQUeBb4IHAq8EhHnSDoZWCMiTuqpLPegzcxyFBGzI2Jqur8ImAl8ANgbmJh+bCJJ0O5RaXvQS+Y/W86GWVOtvM5OzW6ClVDbOy+ot2XUEnNWHLHBkcDYilMTImLC8p+TNAqYDGwGPB8Rq6fnBSzoPO7OoKwNMjOzRBqM3xOQK0kaAlwLHBsRC5OY/O79IanqPwgO0GZmAB3tuRUlaQWS4DwpIq5LT8+RNDIiZqd56rnVynEO2swMoL0t+9aDNH1xCTAzIn5Scekm4JB0/xDgxmpNcg/azAyI6MirqDHAwcB0SdPSc6cA5wBXSzoc+CewX7WCHKDNzAA68gnQEXE/0N1Dy91qKcsB2swMIL8edG4coM3MINeHhHlxgDYzA/egzczKKqqMzmgGB2gzM8jtIWGeHKDNzMApDjOz0vJDQjOzknIP2syspPyQ0MyspPyQ0MysnCKcgzYzKyfnoM3MSsopDjOzknIP2syspNqXNLsF7+E3qpiZQZLiyLpVIelSSXMlzag4t6WkhyRNkzRF0nbVynGANjODJMWRdavucmD35c6dC5wREVsCp6bHPXKKw8wMcn1IGBGTJY1a/jSwarq/GvBitXIcoM3MoBGjOI4FbpV0Pkn2YsdqNzjFYWYGRPuSzJuksWkeuXMbm6GKbwDHRcR6wHEkb/7ukXvQZmZQ0zC7iJgATKixhkOAcen+NcDF1W5wD9rMDHIdxdGNF4FPpvufAp6pdoN70GZmkOtEFUlXArsAwyXNAk4DjgAulDQIeAuomhZxgDYzg7xHcRzQzaWtaynHAdrMDPrXVG9Ji0jG/VV6DZgCnBARzxZVt5lZzdr614L9FwCzgN8BAvYHNgCmApeS5GfMzMqhP/Wggb0iYouK4wmSpkXESZJOKbBeM7PalXC50SKH2b0haT9JA9JtP5Inl/De1IeZWXPluxZHLooM0AcCBwNzgTnp/kGSVgaOKrBeM7PaFT8OumaFpTjSh4Bf6Oby/UXVa2ZWl/6Ug5Y0gmRg9qjKeiLiq0XVaWZWt342iuNG4D7gDqB8r8s1M6sU5Xs0VmSAXiUiTiqwfDOz/PSzURx/lPS5Ass3M8tPf3pISLKs3imS3gaWkExWiYhYtefbzMyaoD89JIyIoUWVbWaWu/byPSrLPUBL+peIeFrS6K6uR8TUvOs0M+u1Euagi+hBn0AyvG58F9eCZKFqM7Ny6Q8BOiKOSL/umnfZZmaF6Q85aEn79HQ9Iq7Lu04zs96KjvzGQUu6FNgTmBsRm1WcPxr4FsnckD9FxIk9lVNEiqNzeveaJK8Vvys93hV4AHCANrPyyTfFcTlwEXBF5wlJuwJ7A1tExNuS1qxWSBEpjsPSxtwGbBIRs9PjkWmjzczKJ8dRHBExWdKo5U5/AzgnIt5OPzO3WjlFTlRZrzM4p+YAHyywPjOz+tUwUUXSWElTKraqL4AFPgLsJOkvku6VtG21G4qcqHKnpFuBK9PjL5Osy2FmVj41pDgiYgIwocYaBgHDgO2BbYGrJa0f0f0iIEVOVDkqfWC4U3pqQkRcX1R9fcXsOfM45azzeXnBAoTYd+89OHi/L/LawkWc8IMf8+JLc1hn7bUYf9Z3WW1VzwXqj9Zddx0uv/RC1lxrOBHBxRdP4mcXXdLsZrW+4hdLmgVclwbkhyV1AMOBed3dUOhbvdMRG34oWINBAwfynaOPYJONN+T1199gv8OPYcdtt+KG/76D7bfZkq8dvB8X/+ZqLvnt1Rz/zcOb3Vxrgra2Nr5z4hk8Nm0GQ4YM5uG//Jk77pzMzJnPNLtpra34cdA3kAyWuFvSR4AVgfk93VBYDlrSPpKekfSapIWSFklaWFR9fcWI4cPYZOMNARg8eBXW/9B6zJn3Mnff9yB77/FpAPbe49PcNfnBZjbTmuill+by2LQZACxe/DpPP/0MH1hn7Sa3qg/oiOxbFZKuBB4ENpY0S9LhJC/LXl/SDOD3wCE9pTeg2B70ucAXImJmgXX0aS/MnsPMZ/6XzTfdmJcXvMqI4cMAGP7+NXh5wavNbZyVwoc+tC5bbrEZf3n4sWY3pfXlO4rjgG4uHVRLOUWO4phTa3CufDJ68RVXVr+hD3vjjTc57ns/5KRjjmTI4MHLXJOEpCa1zMpi8OBVuPqqX3P8t09j0aLFzW5Oy4uOjsxboxTZg54i6SqSvMvbnSd7mklY+WR0yfxny/d6gwZZ0tbGsd/7IZ//7K58ZpcxALx/jdWZN/8VRgwfxrz5rzBs9dWa3EprpkGDBnHNVb/myiuv54Ybbml2c/qGHGcS5qXIHvSqwBvAZ0lmF36BZOqj9SAiOPXHF7D+h9bjkP2Xzprf5RPbc+MtySjFG2+5g1132qFZTbQS+PWE8cx8+u9ccGGtI72sW9GRfWsQVclRN01/7UFPfXwGX/nmd9hog1EMUPLv57gjD2HzTf+FE37wI2bPmcc6a6/J+LNO6ZfD7FZeZ6fqH+rjxuy4LffecwNPTH+KjrTX94MfnMMtf76ryp19V9s7L/Q65/f6mQdmjjmDT53UkBxj7gFa0okRca6kn5EsL7qMiDgmSzn9NUBbzxygrSu5BOhT988eoM/8fUMCdBE56KfSr1MKKNvMrBj9YblRYF/gjxExUdIhETGxgDrMzPLVTx4Sbl6xP66A8s3MctffhtmZmbWOEvagiwjQ60r6KaCK/XdlfUhoZtZQ/SRAf6di3w8Kzaw15DjVOy9FvFHFDwXNrOXk+U7CvDgHbWYG/SbFYWbWeho4OiMrB2gzMyhlD7rIBfvXlXS9pHmS5kq6VtK6RdVnZtYr+S7Yf2ka92Z0ce0ESSFpeLVyilzN7jLgJmAksA5wc3rOzKx0or0j85bB5cDuy5+UtB7JCp/PZymkyAA9IiIui4i2dLscGFFgfWZm9cuxBx0Rk4FXurj0X8CJdLGQXFeKDNAvSzpI0sB0Owh4ucD6zMzqFh2Reat8+1O6ja1WvqS9gRci4vGsbSryIeFXgZ+R/IsRwAPAYQXWZ2ZWvxoeEla+/SkLSasAp5CkNzIrLEBHxD+BvYoq38wsV8WOstsA+DDwePo+0XWBqZK2i4iXursp9wAt6dQeLkdEnJV3nWZmvRVtxUXoiJgOrNl5LOk5YJuImN/TfUXkoF/vYgM4HDipgPrMzHqvo4atCklXAg8CG0uaJenweppUxFoc4zv3JQ0lWRP6MOD3wPju7jMza6Y81+KIiAOqXB+VpZxCctCShgHHAwcCE4HREbGgiLrMzHJRvpneheSgzwP2IXnC+bGIWJx3HWZmeSvjanZF5KBPIJk5+H3gRUkL022RpIUF1Gdm1ns55qDzUkQOusjJL2ZmhYi2ZrfgvbyanZkZEP0hB21m1pJaKUBLGt3TjRExNf/mmJk1R6v1oHsasxzAp3Jui5lZ07RUgI6IXRvZEDOzZop2NbsJ71F1xIWkVSR9X9KE9HgjSXsW3zQzs8aJjuxbo2QZEncZ8A6wY3r8AvDDwlpkZtYE0aHMW6NkCdAbRMS5wBKAiHgDKN/vAmZmvVDGHnSWYXbvSFqZ9BUtkjYA3i60VWZmDRZRvn5nlgB9GvBnYD1Jk4AxwKFFNsrMrNFaahRHp4i4XdJUYHuS1Ma4aotMm5m1mo5WHMWR+iSwG7ArsFNxzTEza448HxJKulTSXEkzKs6dJ+lpSU9Iul7S6tXKyTLM7hfA14HpwAzgSEk/r9pCM7MWkvMojsuB3Zc7dzuwWURsDvwN+G61QrLkoD8FfDQiOh8STgSezNJCM7NWETkuBx0RkyWNWu7cbRWHDwH7VisnS4rj78AHK47XS8+ZmfUZtfSgJY2VNKViG1tjdV8Fbqn2oZ4WS7qZZGjdUGCmpIfT448DD9fYGDOzUqtlmF1ETCB5a1TNJH0PaAMmVftsTymO8+up3MysFbU3YBSHpEOBPYHdOtPGPelpsaR7c2yXmVmpFT1RRdLuwInAJ9MZ2VVlGcWxvaRHJC2W9I6kdr9b0Mz6mpyH2V0JPAhsLGmWpMOBi0hSxrdLmibpl9XKyTKK4yJgf+AaYBvgK8BHMtxnZtYych7FcUAXpy+ptZxME1Ui4u/AwIhoj4jLeO/4PjOzllbG1eyy9KDfkLQiME3SucBsss9ANDNrCe0d5QtrWVp0cPq5o4DXScZB71Nko8zMGi0i+9YoWRZL+me6+xZwBoCkq4AvF9guM7OG6mjR5Ua7skOurTAza7JWXQ/azKzPa2TqIquepnqP7u4SsEIxzVlqy027GqVi/d3LB3602U2wPqrVUhzje7j2dN4NMTNrpjKO4uhpqveujWyImVkzlTDD4Ry0mRm0XorDzKzf8CgOM7OSKuFLvTOtZidJB0k6NT3+oKTtim+amVnjBMq8NUqWx5a/IJmY0jnubRHgl8aaWZ/SFsq8NUqWFMfHI2K0pMcAImJBuniSmVmf0ciecVZZetBLJA0kHYUiaQTlTNeYmdWto4atGkmXSporaUbFuWGSbpf0TPp1jWrlZAnQPwWuB9aUdDZwP/CjDPeZmbWMnHPQl/PedfNPBu6MiI2AO9PjHmVZzW6SpEeB3UimeX8xImZmaaGZWavIMy0QEZMljVru9N7ALun+ROAe4KSeyqkaoCV9EHgDuLnyXEQ8n725Zmbl1l5DDlrSWGBsxakJETGhym1rRcTsdP8lYK1q9WR5SPgnkvyzgJWADwN/BTbNcK+ZWUuo5U1WaTCuFpB7uj8kVZ1dniXF8bHK43SVu2/W2zAzszLqKH4UxxxJIyNitqSRwNxqN9S8fFNETAU+Xk/rzMzKKmrY6nQTcEi6fwhwY7UbsuSgj684HACMBl6sp3VmZmWV50NCSVeSPBAcLmkWcBpwDnC1pMOBfwL7VSsnSw56aMV+G0lO+tpaG2xmVmYdyi/FERHdvXFkt1rK6TFApxNUhkbEt2sp1Mys1bQ3uwFd6OmVV4Miok3SmEY2yMysGWoZxdEoPfWgHybJN0+TdBNwDfB658WIuK7gtpmZNUwDRnHULEsOeiXgZeBTLB0PHYADtJn1Ga32yqs10xEcM1gamDuV8c9iZla3VktxDASGQJf9fgdoM+tTyrhEZ08BenZEnNmwlpiZNVF7i/WgS9hcM7NitFoPuqYB1WZmraylAnREvNLIhpiZNVMDXzWYWZZhdmZmfV5L9aDNzPqTlprqnQdJGwE/BjYhmfACQESsX2S9Zma1KuM46JrXg67RZcD/I1kFb1fgCuC3BddpZlazPN/qnZeiA/TKEXEnoIj4Z0ScDny+4DrNzGpWxgBddA76bUkDgGckHQW8QDI70cysVPKcHi3pOOBrabHTgcMi4q1ayym6Bz0OWAU4BtgaOJilr3wxMyuNDmXfeiLpAyQxb5uI2Ixk2Yz962lToT3oiHgk3V0MHFZkXWZmvZHzKI5BwMqSlpB0Uut6TWAhAVrSBRFxrKSb6eI3h4jYq4h6zczq1VFDkkPSWGBsxakJETEBICJekHQ+8DzwJnBbRNxWT5uK6kH/Jv16fkHlm5nlqpaHf2kwntDVNUlrAHsDHwZeBa6RdFBE1DyCrZAAHRGPpl/vLaJ8M7O85fiQ8NPAPyJiHoCk64AdqWOIcdETVcYApwMfSusSEJ6oYmZlk+PwueeB7SWtQpLi2A2YUk9BRQ+zuwQ4DniUcs6kNDMDoE359KEj4i+S/gBMJZmk9xjdpEOqKTpAvxYRtxRch5lZr+U5DjoiTgNO6205RQfouyWdR/KC2bc7T0bE1ILrNTOrSX9cze7j6ddtKs4FyRvCzcxKo5Zhdo1S9ESVXYss38wsL+ULzwVP9Za0mqSfSJqSbuMlrVZknWZm9SjjYklFr8VxKbAI2C/dFpIsQWpmVirtROatUYrOQW8QEf9WcXyGpGkF12lmVrMyPiQsugf9pqRPdB6kE1feLLhOM7OaRQ3/NUrRPehvABPTvLOAV4BDC67TzKxm/a4HHRHTImILYHPgYxGxVUQ8XmSdfc2AAQP4wx1X8PPfjm92U6yJVv7qtxl64TUMOevX77m24r/uy2qX3YGGrNqElvUdHUTmrVGKXotjdeArwChgkJSsdB0RxxRZb19y8BFf5tlnnmPw0MHNboo10Tv338rbd97AKl87aZnzGjaCQZttQ8f8OU1qWd/R74bZAf9NEpynk6zH0blZBmuNXJOdPzOGayfd2OymWJO1/206sXjRe86vvP83eOvqCZQzvLSWNiLz1ihF56BXiojjC66jzzr5rOMYf+ZFDB6ySrObYiU0aKsd6Xh1Ph3/92yzm9InNPLhX1ZF96B/I+kISSMlDevcuvuwpLGdk1oWvDm34KaV2yc/M4ZX5r/CU0883eymWBmt+D7e9/kDeOv6ic1uSZ9RxokqRfeg3wHOA77H0t/BAuhyPejKtxRsutbHy/fPWQNttd0W7PKvO7PTbjvyvpXex+Ahgznn56dz8rdOb3bTrAQGrLkOA0aszdAzfwWA1hjBkNN/yeIzv0UsXNDk1rWmMvagiw7QJwAbRsT8guvpcy44+xdccPYvANh2x9Ec+s0DHZztXR2z/sGicf/+7vHQ837L4jO+SSxe2MRWtbZ+N8wO+DvwRsF1mPV5Kx95CkO+/1MGrL0eQ8dfyQo77d7sJvU57RGZt2okrS7pD5KeljRT0g71tKnoHvTrwDRJd7PsetAeZleDRx6YyiMPeAnt/uzNX/2ox+uLvnNQg1rSd+U8vvlC4M8Rsa+kFYG6nvQXHaBvSDczs1LLKwedzpzemXTWdES8Q/I8rmZFrwftR8xm1hJqyUFLGguMrTg1IR3kAPBhYB5wmaQtSOZ+jIuI12ttU9EzCf9BFyPo/VZvMyubWlIclSPOujAIGA0cnb5A9kLgZOAHtbap6BRH5auuVgL+Heh2HLSZWbPkOMxuFjArIv6SHv+BJEDXrOjFkl6u2F6IiAuAzxdZp5lZPfIaxRERLwH/J2nj9NRuwFP1tKnoFMfoisMBJD3qonvtZmY1y3kUx9HApHQEx7PAYfUUUnSwrFwjsw14juTVV2ZmpZLnRJWImMayKd66+K3eZmaUc6p30W/1XkvSJZJuSY83kXR4kXWamdWjjAv2Fz3V+3LgVmCd9PhvwLEF12lmVrOIyLw1StEBenhEXE2a3omINqC94DrNzGrWTmTeGqXwtTgkvZ90soqk7YHXCq7TzKxmjUxdZFV0gD4euAnYQNL/ACOAfQuu08ysZo1MXWRV9CiOqZI+CWwMCPhrRCwpsk4zs3r0xx40wHakb/UGRksiIq5oQL1mZpmVcZhd0TMJfwNsAExj6cPBABygzaxUsizE32iNWCxpkyhjcsfMrEJ/THHMANYGZhdcj5lZr/THAD0ceErSwyz7yqu9Cq7XzKwmZfxFv+gAfXrB5ZuZ5aLf9KAlrQR8HdgQmA5cks4iNDMrpf40imMisAS4D9gD2AQYV1BdZma91h55Ljiaj6IC9CYR8TEASZcADxdUj5lZLvLOQUsaCEwBXoiIPespo6gA/e5swYhok1RQNWZm+SggBz0OmAmsWm8BRa1mt4Wkhem2CNi8c1/SwoLqNDOrW9TwXzWS1iV5/+rFvWlTIT3oiBhYRLlmZkXpyDfFcQFwIjC0N4UUvR60mVlLqKUHLWmspCkV29jOciTtCcyNiEd72ya/YdvMjNpGcUTEBGBCN5fHAHtJ+hywErCqpN9GxEG1tsk9aDMzkhRH1q0nEfHdiFg3IkYB+wN31ROcwT1oMzOgf01UMTNrKTk/JAQgIu4B7qn3fgdoMzPcgzYzK632aK/+oQZzgDYzo38uN2pm1hL6zXKjZmatxj1oM7OSKmIUR285QJuZ4VEcZmal1Z8W7DczaynOQZuZlZRz0GZmJeUetJlZSXkctJlZSbkHbWZWUh7FYWZWUn5IaGZWUmVMcfiVV2Zm1PbS2J5IWk/S3ZKekvSkpHH1tsk9aDMzcu1BtwEnRMRUSUOBRyXdHhFP1VqQA7SZGfnloCNiNjA73V8kaSbwAaDmAK0y5l1sWZLGpq95N3uXfy6aR9JYYGzFqQldfS8kjQImA5tFxMKa63GALj9JUyJim2a3w8rFPxflJmkIcC9wdkRcV08ZfkhoZpYzSSsA1wKT6g3O4ABtZpYrSQIuAWZGxE96U5YDdGtwntG64p+LchoDHAx8StK0dPtcPQU5B21mVlLuQZuZlZQDtJlZSTlA95KkkDS+4vjbkk6v4f5DJc2ryFVdIWkvSSfX2I7LJe2b7l8saZNa7rd8SGpPv48zJF0jaZVmtykLSdtI+mmz22HL8kzC3nsb2EfSjyNifp1lXBURRy137qZ6GxQRX6v3Xuu1NyNiSwBJk4CvA716kt8IETEFmNLsdtiy3IPuvTaSp+nHLX9B0ihJd0l6QtKdkj6YpcC0V31Run+5pJ9KekDSsxW9ZEm6SNJfJd0BrFlx/z2Stkn3F0s6W9Ljkh6StFZ6foP0eLqkH0pa3Ov/E7a8+4ANJe2Sfk/+IOlpSZPSoVhI2lrSvZIelXSrpJHp+crv4XBJz6X7h0q6QdLtkp6TdJSk4yU9ln4/h6Wf2zI9fkLS9ZLWqCj3PyU9LOlvknZKz+8i6Y/p/naSHkzLfEDSxo3+H2cJB+h8/Bw4UNJqy53/GTAxIjYHJgHd/Qr55YoUx2FdXB8JfALYEzgnPfclYGNgE+ArwI7dlD0YeCgitiCZcnpEev5C4MKI+Bgwq9of0GojaRCwBzA9PbUVcCzJ92t9YEw6meFnwL4RsTVwKXB2huI3A/YBtk0//0ZEbAU8SPKzAHAFcFL6szcdOK3i/kERsV3ansrznZ4GdkrLPBX4UYY2WQGc4shBRCyUdAVwDPBmxaUdSP4iAfwGOLebIpZJcUg6dLnrN0REB/BUZw8Y2Bm4MiLagRcl3dVN2e8Af0z3HwU+U9G2L6b7vwPO7+Z+q83Kkqal+/eRTFjYEXg4ImYBpNdHAa+SBNvb0w71QNJFdqq4OyIWAYskvQbcnJ6fDmyedhRWj4h70/MTgWsq7u+c2fZo2o7lrQZMlLQREMAKGdpkBXCAzs8FwFTgsgLKfrtiXzXeuySWDnZvx9/zor2bg+6UBt/K72Hn90HAkxGxQxfltLH0N9yVlrtWWVZHxXEH2b6/nZ/v7ufhLJJ/BL6ULvZzT4YyrQBOceQkIl4BrgYOrzj9ALB/un8gSY8qL5NJUiMD07zlrjXe/xDwb+n+/j190ArzV2CEpB0gWb9B0qbpteeArdP9fWspNCJeAxZ05pdJZrXd28Mty1sNeCHdP7SWui1fDtD5Gg8Mrzg+GjhM0hMkf0nqfrNCF64HniFZY/YKkvxjLY4Fjk/btiHwWo5tswwi4h2S4Pufkh4HprH0WcL5wDckPcayP1NZHQKcl35/twTOrOHec4Efp3X7N64m8lTvfiodn/tmRISk/YEDImLvZrfLzJbyv47919bARelwr1eBrza3OWa2PPegzcxKyjloM7OScoA2MyspB2gzs5JygLZC5Lmqm2pYqS9dU6K7ae891fGcpHqGs5kVxgHaivJmRGwZEZuRTDf/euXFdK2KmkXE1yLiqR4+sgvdr0ti1lIcoK0RKld1u0/STSTrigyUdJ6kR9JV146Emlbq213S1HSlvjvTaclfB45Le+87SRoh6dq0jkckjUnvfb+k2yQ9Keliap9Cb1Y4j4O2QlWs6vbn9NRoYLOI+IekscBrEbGtpPcB/yPpNpKV3zpX6luLZLbkpcuVOwL4NbBzWtawiHhF0i+BxRFxfvq53wH/FRH3K1nu9VbgoySruN0fEWdK+jzLTtE3KwUHaCtKT6u6/SM9/1mS1dc615pYDdiIbCv1bQ9M7iwrXQulK58GNkkXLAJYVdKQtI590nv/JGlBfX9Ms+I4QFtRulvV7fXKU8DREXHrcp+r6xX13RgAbB8Rb3XRFrNScw7amulWkgWBVgCQ9BFJg8m2Ut9DwM6SPpzeOyw9vwgYWvG520gWrSL93Jbp7mTgP9JzewBr5PWHMsuLA7Q108Uk+eWpkmYAvyL5ra7qSn0RMQ8YC1yXrgR3VXrpZuBLnQ8JSV6isE36EPIplo4mOYMkwD9Jkup4vqA/o1ndvBaHmVlJuQdtZlZSDtBmZiXlAG1mVlIO0GZmJeUAbWZWUg7QZmYl5QBtZlZS/x/3UGQ/NAoHqQAAAABJRU5ErkJggg==\n",
      "text/plain": [
       "<Figure size 432x288 with 2 Axes>"
      ]
     },
     "metadata": {
      "needs_background": "light"
     },
     "output_type": "display_data"
=======
       "array(['No Finding'], dtype='<U10')"
      ]
     },
     "execution_count": 16,
     "metadata": {},
     "output_type": "execute_result"
>>>>>>> 546e938623c1554f4e858fc35e33a20176caf09c
    }
   ],
   "source": [
    "#Display Confusion Matrix\n",
    "#Credits: https://gist.github.com/shaypal5/94c53d765083101efc0240d776a23823\n",
    "import matplotlib.pyplot as plt\n",
    "from sklearn.metrics import ConfusionMatrixDisplay\n",
    "import seaborn as sns\n",
    "\n",
    "\n",
    "for conf_idx in range(len(results)):\n",
    "    conf_matrix = confusion_matrix(test_lbl, results[conf_idx])\n",
    "    df_cm = pd.DataFrame(\n",
    "        conf_matrix, index=['No Finding', 'Pneumonia'], columns=['No Finding', 'Pneumonia'], \n",
    "    )\n",
    "    \n",
    "    heatmap = sns.heatmap(df_cm, annot=True, fmt='d')\n",
    "    \n",
    "    plt.ylabel(\"True Label\")\n",
    "    plt.xlabel(\"Predicted\")\n",
    "    plt.show()"
   ]
  },
  {
   "cell_type": "code",
   "execution_count": 389,
   "id": "4a54c410",
   "metadata": {},
   "outputs": [
    {
     "data": {
      "image/png": "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\n",
      "text/plain": [
       "<Figure size 432x288 with 1 Axes>"
      ]
     },
     "metadata": {
      "needs_background": "light"
     },
     "output_type": "display_data"
    }
   ],
   "source": [
    "# For Accuracy, Precision, \n",
    "accuracies = []\n",
    "threshold = -0.1\n",
    "\n",
    "fig = plt.figure()\n",
    "ax = fig.add_axes([0,1,1,1])\n",
    "\n",
    "for i in range(len(results)):\n",
    "    accuracies.append(accuracy_score(test_lbl, results[i]))\n",
    "    ax.text(0.4, threshold, str((accuracies[i]*100)) + '%', color='white', fontweight='bold', fontsize=\"xx-large\")\n",
    "    threshold = threshold + 1\n",
    "    \n",
    "ax.barh(variances, accuracies)\n",
    "ax.set_ylabel('Accuracy Score')\n",
    "ax.set_xlabel('Variance')\n",
    "ax.set(xlim=[0, 1])\n",
    "plt.title(\"Accuracy\")\n",
    "plt.show()   "
   ]
  },
  {
   "cell_type": "code",
   "execution_count": 383,
   "id": "ec3ddb3f",
   "metadata": {},
   "outputs": [],
   "source": [
    "from sklearn.metrics import precision_score, recall_score, f1_score\n",
    "\n",
    "# Functions\n",
    "def getPrecisionScore(result, label, avg = 'binary'):\n",
    "    return precision_score(test_lbl, result, average=avg, pos_label=label)\n",
    "\n",
    "def textBarh(starting, variance, fontweight='regular'):\n",
    "    ax.text(0.4, starting, str(variance) + '%', color='white', fontweight='bold', fontsize=\"medium\")\n",
    "    \n",
    "def getRecallScore(result, label, avg = 'binary'):\n",
    "    return recall_score(test_lbl, result, average=avg, pos_label=label)\n",
    "\n",
    "def getF1Score(result, label, avg = 'binary'):\n",
    "    return f1_score(test_lbl, result, average=avg, pos_label=label)"
   ]
  },
  {
   "cell_type": "code",
   "execution_count": 387,
   "id": "ec2ea0ca",
   "metadata": {},
   "outputs": [],
   "source": [
    "#Function for Classification Report Horizontal Bar Graph.\n",
    "# Applicable for 2 class only\n",
    "def barHCustom(title, scoreFunction, results, class_labels):\n",
    "    \n",
    "    def textBarh(starting, variance, fontweight='regular'):\n",
    "        ax.text(0.4, starting, str(round(variance, 2)) + '%', color='white', fontweight='bold', fontsize=\"medium\")\n",
    "        \n",
    "    #Get data score of each label\n",
    "    data = [\n",
    "        [scoreFunction(r, \"No Finding\") for r in results],\n",
    "        [scoreFunction(r, \"Pneumonia\") for r in results]\n",
    "    ]\n",
    "    \n",
    "    ind = np.arange(5)\n",
    "    width = 0.4\n",
    "\n",
    "    fig, ax = plt.subplots()\n",
    "    ax.barh(ind + 0.20, data[0], width, color='green', label=class_labels[0])\n",
    "    ax.barh(ind + 0.60, data[1], width, color='red', label=class_labels[1])\n",
    "    \n",
    "    starting = 0.1\n",
    "    for d in data[0]:\n",
    "        textBarh(starting, d*100)\n",
    "        starting = starting + 1\n",
    "\n",
    "    starting = 0.5\n",
    "    for d in data[1]:\n",
    "        textBarh(starting, d*100)\n",
    "        starting = starting + 1  \n",
    "        \n",
    "    ax.set(yticks=ind + width, yticklabels=['100%', '99%', '95%', \"90%\", \"85%\"], ylim=[2*width - 1, 5], xlim=[0, 1.2])\n",
    "    ax.legend()\n",
    "    ax.set_ylabel('Variance')\n",
    "    ax.set_xlabel('Percent')\n",
    "    plt.title(title)\n",
    "    plt.show()"
   ]
  },
  {
   "cell_type": "code",
   "execution_count": 388,
   "id": "ec3332d1",
   "metadata": {},
   "outputs": [
    {
     "data": {
      "image/png": "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\n",
      "text/plain": [
       "<Figure size 432x288 with 1 Axes>"
      ]
     },
     "metadata": {
      "needs_background": "light"
     },
     "output_type": "display_data"
    },
    {
     "data": {
      "image/png": "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\n",
      "text/plain": [
       "<Figure size 432x288 with 1 Axes>"
      ]
     },
     "metadata": {
      "needs_background": "light"
     },
     "output_type": "display_data"
    },
    {
     "data": {
      "image/png": "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\n",
      "text/plain": [
       "<Figure size 432x288 with 1 Axes>"
      ]
     },
     "metadata": {
      "needs_background": "light"
     },
     "output_type": "display_data"
    }
   ],
   "source": [
    "barHCustom(\"Precision\", getPrecisionScore, results, class_labels=[\"No Finding\", \"Pneumonia\"])\n",
    "barHCustom(\"Recall\", getRecallScore, results, class_labels=[\"No Finding\", \"Pneumonia\"])\n",
    "barHCustom(\"F1 Score\", getF1Score, results, class_labels=[\"No Finding\", \"Pneumonia\"])"
   ]
  },
  {
   "cell_type": "code",
   "execution_count": null,
   "id": "aaf475b4",
   "metadata": {},
   "outputs": [],
   "source": []
  }
 ],
 "metadata": {
  "kernelspec": {
   "display_name": "Python 3 (ipykernel)",
   "language": "python",
   "name": "python3"
  },
  "language_info": {
   "codemirror_mode": {
    "name": "ipython",
    "version": 3
   },
   "file_extension": ".py",
   "mimetype": "text/x-python",
   "name": "python",
   "nbconvert_exporter": "python",
   "pygments_lexer": "ipython3",
   "version": "3.8.10"
  }
 },
 "nbformat": 4,
 "nbformat_minor": 5
}
